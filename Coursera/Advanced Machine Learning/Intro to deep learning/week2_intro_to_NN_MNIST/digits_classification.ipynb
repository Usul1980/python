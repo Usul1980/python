{
 "cells": [
  {
   "cell_type": "markdown",
   "metadata": {
    "slideshow": {
     "slide_type": "slide"
    }
   },
   "source": [
    "# MNIST digits classification with TensorFlow"
   ]
  },
  {
   "cell_type": "markdown",
   "metadata": {},
   "source": [
    "<img src=\"images/mnist_sample.png\" style=\"width:30%\">"
   ]
  },
  {
   "cell_type": "code",
   "execution_count": 1,
   "metadata": {},
   "outputs": [
    {
     "name": "stdout",
     "output_type": "stream",
     "text": [
      "We're using TF 1.2.1\n"
     ]
    }
   ],
   "source": [
    "import numpy as np\n",
    "from sklearn.metrics import accuracy_score\n",
    "from matplotlib import pyplot as plt\n",
    "%matplotlib inline\n",
    "import tensorflow as tf\n",
    "print(\"We're using TF\", tf.__version__)"
   ]
  },
  {
   "cell_type": "code",
   "execution_count": 2,
   "metadata": {},
   "outputs": [
    {
     "name": "stderr",
     "output_type": "stream",
     "text": [
      "Using TensorFlow backend.\n"
     ]
    }
   ],
   "source": [
    "import sys\n",
    "sys.path.append(\"../..\")\n",
    "import grading\n",
    "\n",
    "import matplotlib_utils\n",
    "from importlib import reload\n",
    "reload(matplotlib_utils)\n",
    "\n",
    "import grading_utils\n",
    "reload(grading_utils)\n",
    "\n",
    "import keras_utils\n",
    "from keras_utils import reset_tf_session"
   ]
  },
  {
   "cell_type": "markdown",
   "metadata": {},
   "source": [
    "# Fill in your Coursera token and email\n",
    "To successfully submit your answers to our grader, please fill in your Coursera submission token and email"
   ]
  },
  {
   "cell_type": "code",
   "execution_count": 3,
   "metadata": {
    "collapsed": true
   },
   "outputs": [],
   "source": [
    "grader = grading.Grader(assignment_key=\"XtD7ho3TEeiHQBLWejjYAA\", \n",
    "                        all_parts=[\"9XaAS\", \"vmogZ\", \"RMv95\", \"i8bgs\", \"rE763\"])"
   ]
  },
  {
   "cell_type": "code",
   "execution_count": 17,
   "metadata": {
    "collapsed": true
   },
   "outputs": [],
   "source": [
    "# token expires every 30 min\n",
    "COURSERA_TOKEN = \"\"\n",
    "COURSERA_EMAIL = \"\""
   ]
  },
  {
   "cell_type": "markdown",
   "metadata": {},
   "source": [
    "# Look at the data\n",
    "\n",
    "In this task we have 50000 28x28 images of digits from 0 to 9.\n",
    "We will train a classifier on this data."
   ]
  },
  {
   "cell_type": "code",
   "execution_count": 5,
   "metadata": {
    "collapsed": true
   },
   "outputs": [],
   "source": [
    "import preprocessed_mnist\n",
    "X_train, y_train, X_val, y_val, X_test, y_test = preprocessed_mnist.load_dataset_from_file()"
   ]
  },
  {
   "cell_type": "code",
   "execution_count": 6,
   "metadata": {},
   "outputs": [
    {
     "name": "stdout",
     "output_type": "stream",
     "text": [
      "X_train [shape (50000, 28, 28)] sample patch:\n",
      " [[ 0.          0.29803922  0.96470588  0.98823529  0.43921569]\n",
      " [ 0.          0.33333333  0.98823529  0.90196078  0.09803922]\n",
      " [ 0.          0.33333333  0.98823529  0.8745098   0.        ]\n",
      " [ 0.          0.33333333  0.98823529  0.56862745  0.        ]\n",
      " [ 0.          0.3372549   0.99215686  0.88235294  0.        ]]\n",
      "A closeup of a sample patch:\n"
     ]
    },
    {
     "data": {
      "image/png": "[encoded data removed]",
      "text/plain": [
       "<matplotlib.figure.Figure at 0x7f5d51050668>"
      ]
     },
     "metadata": {},
     "output_type": "display_data"
    },
    {
     "name": "stdout",
     "output_type": "stream",
     "text": [
      "And the whole sample:\n"
     ]
    },
    {
     "data": {
      "image/png": "[encoded data removed]",
      "text/plain": [
       "<matplotlib.figure.Figure at 0x7f5d50a26ef0>"
      ]
     },
     "metadata": {},
     "output_type": "display_data"
    },
    {
     "name": "stdout",
     "output_type": "stream",
     "text": [
      "y_train [shape (50000,)] 10 samples:\n",
      " [5 0 4 1 9 2 1 3 1 4]\n"
     ]
    }
   ],
   "source": [
    "# X contains rgb values divided by 255\n",
    "print(\"X_train [shape %s] sample patch:\\n\" % (str(X_train.shape)), X_train[1, 15:20, 5:10])\n",
    "print(\"A closeup of a sample patch:\")\n",
    "plt.imshow(X_train[1, 15:20, 5:10], cmap=\"Greys\")\n",
    "plt.show()\n",
    "print(\"And the whole sample:\")\n",
    "plt.imshow(X_train[1], cmap=\"Greys\")\n",
    "plt.show()\n",
    "print(\"y_train [shape %s] 10 samples:\\n\" % (str(y_train.shape)), y_train[:10])"
   ]
  },
  {
   "cell_type": "markdown",
   "metadata": {},
   "source": [
    "# Linear model\n",
    "\n",
    "Your task is to train a linear classifier $\\vec{x} \\rightarrow y$ with SGD using TensorFlow.\n",
    "\n",
    "You will need to calculate a logit (a linear transformation) $z_k$ for each class: \n",
    "$$z_k = \\vec{x} \\cdot \\vec{w_k} + b_k \\quad k = 0..9$$\n",
    "\n",
    "And transform logits $z_k$ to valid probabilities $p_k$ with softmax: \n",
    "$$p_k = \\frac{e^{z_k}}{\\sum_{i=0}^{9}{e^{z_i}}} \\quad k = 0..9$$\n",
    "\n",
    "We will use a cross-entropy loss to train our multi-class classifier:\n",
    "$$\\text{cross-entropy}(y, p) = -\\sum_{k=0}^{9}{\\log(p_k)[y = k]}$$ \n",
    "\n",
    "where \n",
    "$$\n",
    "[x]=\\begin{cases}\n",
    "       1, \\quad \\text{if $x$ is true} \\\\\n",
    "       0, \\quad \\text{otherwise}\n",
    "    \\end{cases}\n",
    "$$\n",
    "\n",
    "Cross-entropy minimization pushes $p_k$ close to 1 when $y = k$, which is what we want.\n",
    "\n",
    "Here's the plan:\n",
    "* Flatten the images (28x28 -> 784) with `X_train.reshape((X_train.shape[0], -1))` to simplify our linear model implementation\n",
    "* Use a matrix placeholder for flattened `X_train`\n",
    "* Convert `y_train` to one-hot encoded vectors that are needed for cross-entropy\n",
    "* Use a shared variable `W` for all weights (a column $\\vec{w_k}$ per class) and `b` for all biases.\n",
    "* Aim for ~0.93 validation accuracy"
   ]
  },
  {
   "cell_type": "code",
   "execution_count": 7,
   "metadata": {},
   "outputs": [
    {
     "name": "stdout",
     "output_type": "stream",
     "text": [
      "(50000, 784)\n",
      "(10000, 784)\n"
     ]
    }
   ],
   "source": [
    "X_train_flat = X_train.reshape((X_train.shape[0], -1))\n",
    "print(X_train_flat.shape)\n",
    "\n",
    "X_val_flat = X_val.reshape((X_val.shape[0], -1))\n",
    "print(X_val_flat.shape)"
   ]
  },
  {
   "cell_type": "code",
   "execution_count": 8,
   "metadata": {},
   "outputs": [
    {
     "name": "stdout",
     "output_type": "stream",
     "text": [
      "(50000, 10)\n",
      "[[ 0.  0.  0.  0.  0.  1.  0.  0.  0.  0.]\n",
      " [ 1.  0.  0.  0.  0.  0.  0.  0.  0.  0.]\n",
      " [ 0.  0.  0.  0.  1.  0.  0.  0.  0.  0.]] [5 0 4]\n"
     ]
    }
   ],
   "source": [
    "import keras\n",
    "\n",
    "y_train_oh = keras.utils.to_categorical(y_train, 10)\n",
    "y_val_oh = keras.utils.to_categorical(y_val, 10)\n",
    "\n",
    "print(y_train_oh.shape)\n",
    "print(y_train_oh[:3], y_train[:3])"
   ]
  },
  {
   "cell_type": "code",
   "execution_count": 9,
   "metadata": {
    "collapsed": true
   },
   "outputs": [],
   "source": [
    "# run this again if you remake your graph\n",
    "s = reset_tf_session()"
   ]
  },
  {
   "cell_type": "code",
   "execution_count": 11,
   "metadata": {},
   "outputs": [],
   "source": [
    "# Model parameters: W and b\n",
    "W = tf.get_variable(\"W\",shape=(784,10),dtype=tf.float32)# tf.get_variable(...) with shape[0] = 784\n",
    "b = tf.get_variable(\"b\",shape=(10),dtype=tf.float32)# tf.get_variable(...)"
   ]
  },
  {
   "cell_type": "code",
   "execution_count": 12,
   "metadata": {
    "collapsed": true
   },
   "outputs": [],
   "source": [
    "# Placeholders for the input data\n",
    "input_X = tf.placeholder(tf.float32,shape=(None,784))# tf.placeholder(...) for flat X with shape[0] = None for any batch size\n",
    "input_y = tf.placeholder(tf.float32,shape=(None,10))# tf.placeholder(...) for one-hot encoded true labels"
   ]
  },
  {
   "cell_type": "code",
   "execution_count": 14,
   "metadata": {},
   "outputs": [],
   "source": [
    "# Compute predictions\n",
    "logits = input_X @ W + b# logits for input_X, resulting shape should be [input_X.shape[0], 10]\n",
    "probas = tf.nn.softmax(logits)# apply tf.nn.softmax to logits\n",
    "classes = tf.argmax(probas,1)# apply tf.argmax to find a class index with highest probability\n",
    "\n",
    "# Loss should be a scalar number: average loss over all the objects with tf.reduce_mean().\n",
    "# Use tf.nn.softmax_cross_entropy_with_logits on top of one-hot encoded input_y and logits.\n",
    "# It is identical to calculating cross-entropy on top of probas, but is more numerically friendly (read the docs).\n",
    "loss =  tf.reduce_mean(tf.nn.softmax_cross_entropy_with_logits(labels=input_y,logits=logits))# cross-entropy loss\n",
    "\n",
    "# Use a default tf.train.AdamOptimizer to get an SGD step\n",
    "step = tf.train.AdamOptimizer().minimize(loss)# optimizer step that minimizes the loss"
   ]
  },
  {
   "cell_type": "code",
   "execution_count": 27,
   "metadata": {
    "scrolled": false
   },
   "outputs": [
    {
     "data": {
      "text/html": [
       "<img src=\"data:image/jpeg;base64,/9j/4AAQSkZJRgABAQAAAQABAAD/2wBDAAIBAQEBAQIBAQECAgICAgQDAgICAgUEBAMEBgUGBgYFBgYGBwkIBgcJBwYGCAsICQoKCgoKBggLDAsKDAkKCgr/2wBDAQICAgICAgUDAwUKBwYHCgoKCgoKCgoKCgoKCgoKCgoKCgoKCgoKCgoKCgoKCgoKCgoKCgoKCgoKCgoKCgoKCgr/wAARCAEgA2ADASIAAhEBAxEB/8QAHwAAAQUBAQEBAQEAAAAAAAAAAAECAwQFBgcICQoL/8QAtRAAAgEDAwIEAwUFBAQAAAF9AQIDAAQRBRIhMUEGE1FhByJxFDKBkaEII0KxwRVS0fAkM2JyggkKFhcYGRolJicoKSo0NTY3ODk6Q0RFRkdISUpTVFVWV1hZWmNkZWZnaGlqc3R1dnd4eXqDhIWGh4iJipKTlJWWl5iZmqKjpKWmp6ipqrKztLW2t7i5usLDxMXGx8jJytLT1NXW19jZ2uHi4%2BTl5ufo6erx8vP09fb3%2BPn6/8QAHwEAAwEBAQEBAQEBAQAAAAAAAAECAwQFBgcICQoL/8QAtREAAgECBAQDBAcFBAQAAQJ3AAECAxEEBSExBhJBUQdhcRMiMoEIFEKRobHBCSMzUvAVYnLRChYkNOEl8RcYGRomJygpKjU2Nzg5OkNERUZHSElKU1RVVldYWVpjZGVmZ2hpanN0dXZ3eHl6goOEhYaHiImKkpOUlZaXmJmaoqOkpaanqKmqsrO0tba3uLm6wsPExcbHyMnK0tPU1dbX2Nna4uPk5ebn6Onq8vP09fb3%2BPn6/9oADAMBAAIRAxEAPwD9/KKKKACiiigAooooAKKKKACiiigAooooAKKKKACiiigAooooAKKKKACiiigAooooAKKKKACiiigAooooAKKKKACiiigAooooAKKKKACiiigAooooAKKKKACiiigAooooAKKKKACiiigAooooAKKKKACiiigAooooAKKKKACiiigAooooAKKKKACiiigAooooAKKKKACiiigAooooAKKKKACiiigAooooAKKKKACiiigAooooAKKKKACiiigAooooAKKKKACiiigAooooAKKKKACiiigAooooAKKKKACiiigAooooAKKKKACiiigAooooAKKKKACiiigAooooAKKKKACiiigAooooAKKKKACvPfjt%2B1J8FP2b5NGsfil4g1Maj4ilnTQNB8OeF9R1zVNR8lVed4bHTbee5kjiVkMkixlI96biu5c%2BhV4N%2B0P8D/j5/wANJ%2BDv2tv2bLLwfrWueH/B2seFNX8KeOdcutLtLywv7mwuxcQXtraXj288U2noCpt3WVJSCUKK1ABpf/BTL9izWLvxPb2nxXv0h8FWsk/jLUrvwXrEFjoIS0iu9l5dy2iwWsrQzRskMjrJIWKorMrKL2n/APBQ/wDZK1HwBrXxFTx/q9vB4f1ay0vVdE1DwNrNrrkV5ebfscC6PNaLqEr3AYGER27eaAxTcFYjy2b9gH4y%2BMf2a/jn8NfGHinwppHin4o/FS38daHc6U1xeWFpeW0OiywQ3IkihkkiN3pRRwoyYHGDuJVaPi79i/8AaV%2BLmr/Ef45fG34S/CjWvFnjWx8KaPp/gKy%2BI2s2Wm6fY6Hcaldw3qa7b6al5DqDXOqTOksVoPJSKNFZiWcgHsviH9vv9mzwv4a8OeI9XvvG3meK0v5NE8P2vwm8SXGuSRWUscV3NJpMWntf28MLzQq8s0CIpmiy37xM%2Bmaz8RPBHhv4e3XxX8T%2BJbbSvDljo76rf6vqrfZYbSySIzPPMZdvlKsYLNvxtAOcYNfGHin9hH9s/WPgX4X8Nay3hfxV470a58RHRfGV/wDHbxNpGr%2BCLW%2BuUktLO11q1sJLzXIYkjhEy3qw/aTbReYCFGPUfjR/wTotfj1%2Bzb4n%2BHHxD%2BOfjW78d%2BMPhfH4Z17xS3jbWho818tpDE2oJoS3y2FuzzQLK3kRRSEPIBIrSM5AOkg/4KUfsZf8K58V/FbWPite6Jo3giysr7xQ/ifwdq%2Bk3NlZXkxhtb37LeWsVxJaSyK6pcxxtC3luQ%2BEYjj/AI3f8FZP2d/hn8ENU%2BMfgPRfFXiqbQfiD4X8L674Y/4QXXbHU7A6zqVrax3T2cmnNdeV5Fw88DeT5d48aW8MhknjB8r1T/gmJ8ZPHfwq8faR4i8DeG9G8Y%2BI9D0fR7DxDqv7RfjPxut3aWusW%2BoTRyf27AfsEZ8likUSzHe%2BGkxknv8A9qH9gz40/GD4g/F/4g%2BBfEPheOTxfB8LbzwlZ6tfXMSvf%2BE/EdzrUsN40dvJ5ENwGt4VljEzrl2MfyKrgHqFh/wUE/Zb1H4m2XwZh8T%2BJo/Fd5oun6xLoF38N9egudO0%2B9adILu/SSyU6dDut5VeS68pYiFEhQum6j4a/wCCmH7FPi3wZ4s%2BIWkfGC4TR/Bfgi68Zaxe6h4S1W0Fx4et0Z5tWsVntUbVLNVQ4nsxPGxZArEugbB0P9kP4ofEP4mfG74g/G9fD2gxfGj4O%2BHfCF1Y%2BE9duNRl0u4tE11Ltlnns7XzYwNViMT7FZikm6OPA3fN37Y37Kn7UOj/ALDHxS%2BJv7TF34AtIfhD%2BxT8QfBHhePwFqF5cNrzXukWxn1G6W5toBYqE0i3CWcbXAVppCZ22oKAPrPw9/wUl/Yy8TaHrHiPT/i1dQWehppU1/JqnhLVbJmtNSu1s7HUIUuLVGubCWdgovoQ9qoDO0qorMPT9E%2BLvw88R/FLX/gvofiH7T4k8LaXp%2Boa/YR2k22zgvmuBa7pinlF3%2ByzHy1cyKoRmVVkjLfJOofsz%2BIPFegeKfjb/wAFIvF/wz8J%2BBbf9nu5%2BHUlx4f8QTLay6beyQyXmq3k17BbpYOTBbCG2QzCAmT/AEiQsuOw/wCCPngP4u2f7I9r8f8A9pDUDf8AxJ%2BL15H4n8V6g9nJbtJCLSCy01fKl%2BeH/iX2lpI0TYKSzTZAYtkA%2BqqKKKACiiigAooooAKKKKACiiigAooooAKKKKACiiigAooooAKKKKACiiigAooooAKKKKACiiigAooooAKKKKACiiigAooooAK8R0j/AIKMfse6ld69Z6n8Urzw83hzw5c%2BINQk8a%2BEdV0GObSbd0jnv7WTUrWBb63R5IlaW2MqAyxjOXXPtN7FczWcsNndCCZ4mWKYx7/LYjhtp64POO9fmJq//BHL9uX4v6t4X1z43fHHQ31vw14P1Cz1DxRqHxW8TeJx4h1v7ZpV9a6idLvoobLSbaS50xfPsLIBRHJtWWQKgUA%2B2X/b/wD2YbX4aN8WNY8QeKtK0ttcg0axs9c%2BGWv2GqanfzIZIYLLTbixS9v2kQM6/Z4ZAyo7AkIxHReA/wBqz4H/ABH1%2By8J%2BHPEOqQ6vf8AhSfxJDpGteFdS0y7TTYbv7JLLLDeW8UkDrP8hhkVZe%2BzbzXk3xO%2BDn7bvxib4e/G3XPBvwq0P4h/Cjx1NrHh/wAM2vjjUr/Rdcs7jSbvTLmO4vn0qGaxmKXskkbpa3AjMQU%2BYJGxV%2BJPwG/bg1/4y%2BHf2mvA%2BjfCu08WX3ww1XwX4x0LUvFepSWGkLcX8N1a39lcJpwk1AxCN1kt5YrQSlxiWLHIB3Gk/wDBRv8AZA8R694F8LeFfiNqus6n8SfBuleLfBunaJ4H1m9nvND1F9lrqMiQWjNa2%2B7HmSTiNbcMpm8oMCdj4a/tufs3fFf4jXPwn8M%2BL9Ws9ft9LudThsvE/gzVtEW/sbeRI57uyl1G1gjv4I3liDy2zSIvmISQGUnyj9hT9hL4sfsw6/8ADjWfHniDw1dnwd%2Byl4R%2BGN%2B%2BkXM8rNq2lvM1zNF5kEe61bemxmKu235o0wK8a%2BGn/BKv9sbxP8UfC/ib9qb4w2eqRaf4A8V%2BF/GniaD4v%2BJNavPEUur2KW39p2umX0Men6EcqWNpaKUXKgTOI1WgD6l8J/8ABRf9kfxrosfirQfHeuf2Hcarpen6f4lvfh/rdrpWoy6lex2VlJaX09mlteQS3M0UYuIJHhBlQs4VgT6X4W%2BLvw88a/EDxT8LvC/iH7XrnguSzj8T2iWkwWxkuoPtEEZlZBG7tCVkKIzMiyRlgokTd8w%2BOPAnxF8K/wDBPbxp8CP%2BChnif4VeCPAWg/DSLQLb4meHfFt2GadI0trXUntLqzgTTZlmFvJDBHcXTGcoiOTtDdr/AMEr/h98WPDf7ImlfFX9oqwS3%2BJ3xYvpfHXxEhW3aL7Pf36xmG02N8yfZbGOys9pyQLXBoA%2BjaKKKACiiigAooooAKKKKACiiigAooooAKKKKACiiigAooooAKKKKACiiigAooooAKKKKACiiigAooooAKKKKACiiigAooooAKKwPil8TfCXwb8Baj8S/HT6kulaVGj3Z0jQrvU7khnWNRHa2cUs8zFmUbY42POcYBNZln8ffhbqnwL079pLRdZvtR8IavoFprWlX2maDe3VxeWV1HHJbvFZxQtcu7rLHiIRGTLY25yKAOyrxf49eP8A9ov/AIaL8C/Aj4C%2BM/BXh9Nf8FeJde1fU/F/gu71ok6dd6Hbwwwx2%2BpWPlhv7UlZmZnz5aABeSe6%2BDXxz%2BGfx98N3fin4Y6zd3EOnanJpuqWmqaLd6be6feRqjtb3NpexRXFtJskjcJLGpKSo4BV1J85%2BIutJZ/8FKvhDosijF78E/iGyNnndHq3g04/JmP4Um0ty4QlUdo9m/u1Ze/4Qf8A4KF/9HQfBn/ww%2Brf/NRR/wAIP/wUL/6Og%2BDP/hh9W/8Amor2aimQeM/8IP8A8FC/%2BjoPgz/4YfVv/moo/wCEH/4KF/8AR0HwZ/8ADD6t/wDNRXs1FAHjP/CD/wDBQv8A6Og%2BDP8A4YfVv/moo/4Qf/goX/0dB8Gf/DD6t/8ANRXs1FAHjP8Awg//AAUL/wCjoPgz/wCGH1b/AOaij/hB/wDgoX/0dB8Gf/DD6t/81FezUUAeM/8ACD/8FC/%2BjoPgz/4YfVv/AJqKP%2BEH/wCChf8A0dB8Gf8Aww%2Brf/NRXs1FAHjP/CD/APBQv/o6D4M/%2BGH1b/5qKP8AhB/%2BChf/AEdB8Gf/AAw%2Brf8AzUV7NRQB4z/wg/8AwUL/AOjoPgz/AOGH1b/5qKP%2BEH/4KF/9HQfBn/ww%2Brf/ADUV7NRQB4z/AMIP/wAFC/8Ao6D4M/8Ahh9W/wDmoo/4Qf8A4KF/9HQfBn/ww%2Brf/NRVrX/jf%2ByJ8KbTSNJ%2BOnxh%2BHPhzXNQ0WDUDbeLvENhaXdxHJkeftuHV2RnSQBumUYZ4IGb/wANf/8ABOD/AKOi%2BCP/AIW2j/8Ax2uaeMwdOTjOrFNdHKKf3OSZ7WH4b4kxdCNahga84SV1KNGtKLXdSjRlFrR6ptablj/hB/8AgoX/ANHQfBn/AMMPq3/zUUf8IP8A8FC/%2BjoPgz/4YfVv/moqv/w1/wD8E4P%2Bjovgj/4W2j//AB2vTtA0X4WeK9CsvFPhbSfD%2BpaZqVpHdadqOnwQTQXUEih45Y5EBV0ZSGVlJBBBBwaulicPXbVOcZW7ST/Js58dk2c5XCM8bhatJSdk6lOpTTe9k504Ju2tk27a2tqec/8ACD/8FC/%2BjoPgz/4YfVv/AJqKP%2BEH/wCChf8A0dB8Gf8Aww%2Brf/NRXnnw%2B/4KNfsX%2BL/A9n4w8Q/D3xPoM%2BqeONa8LaJo1z8HtbnvNWvdOuL%2BORbSKHT2e6Jh0%2BedliVzCAY5Nkiso7L4hftUfsteBbLx7aXmiRafrHgLwhrXiG8tvFngTVtJs7uz0xf9Lnt7qTTnF7bxM0QklskuiomjYI%2B9FfY800f%2BEH/4KF/9HQfBn/ww%2Brf/ADUUf8IP/wAFC/8Ao6D4M/8Ahh9W/wDmoqrYftWfsYah8Z5P2foby3/4Si38QR6DdR/8INfiwh1V9Oj1KOxbUGtBaLO9pKkyRmUM4OFBYFRs/Gv4q/BX4Sfs867%2B0Po/hHRvFGnaXYNJptvoa20g1W6aUQQWsUwBQNJcMkO4narMS3Q0AUP%2BEH/4KF/9HQfBn/ww%2Brf/ADUUf8IP/wAFC/8Ao6D4M/8Ahh9W/wDmop37OfxEs/ivc%2BM/BfxW%2BBvhrwn4u8A6/FpviHTNJ1JdVsHSaxt76C5t7uS0tXkjaK5CnfBGyywyrhlVXfzb4E/tb6z8dbSzGk/sh%2BGbC88cfDP/AIT34O2914pUr4g0fzoI8X7f2eDpdwFvbCR40W7VVu8B2aNloA9H/wCEH/4KF/8AR0HwZ/8ADD6t/wDNRR/wg/8AwUL/AOjoPgz/AOGH1b/5qK818Tftea1p/wDwTu0b9u/wt%2ByP4T1G5l0VNX8S%2BErrxaLaPTbNVkM7QXg052unVkVUQwRB9%2BS0YBrrP2uf2l/h5%2BzB4h8C%2BD9H%2BB2neKtV8W%2BNdA0rU7WF4rVdD0vUtbsNG/tSVjDJu2XWo2ypBhWnPmbWVYpXQA3v%2BEH/AOChf/R0HwZ/8MPq3/zUUf8ACD/8FC/%2BjoPgz/4YfVv/AJqK8cm/4KLfDDTv2nPEXwD1T4A%2BGnh8N3muQ6jZ6Zr8Vz4os4NM0179tTutE%2ByL9n024CLDb3X2l/NkurQbB5x2Msf%2BCi3w88OfD3xB4i%2BM3wC8F6Hrll4P8K%2BJfDukaL4xt9QtdRsvEd%2B%2BnaYLi8ltLdLJxdoqzsVkhijkWVJZlDhQD2b/AIQf/goX/wBHQfBn/wAMPq3/AM1FH/CD/wDBQv8A6Og%2BDP8A4YfVv/morzvx1%2B1hD4G/ZTtP2o73wX%2Bzc%2Blm4uBfao3x0CaA8SbhEtlqn9ikXdxI6snkmGLDqVDtTYP22vh54l%2BNvg34JeEvhD4C0nU9f8P6Fq%2Bt6b8TPGMHh/VbQamGkWwsbAWlxJqOoQQo0k0G6BFLwr5pMjeWAejf8IP/AMFC/wDo6D4M/wDhh9W/%2Baij/hB/%2BChf/R0HwZ/8MPq3/wA1Fcr4k/aNT4QfGifwB%2B0V%2Bzt4P8PeHbrwv4k8RaF4i0LxH/alydN0Zrc3E99ZtYQfZA8VzG6mKW5UMRGzKzLuz/gp%2B2J8OPiF8B/E/wC0P44%2BG3w4tdI0SO2%2Bx6P4E8b23iXVTdXGBFpV5BFaQx2mptJJbwLaxy3AaacIshwGYA7r/hB/%2BChf/R0HwZ/8MPq3/wA1FH/CD/8ABQv/AKOg%2BDP/AIYfVv8A5qK8i8Q/tkfESz/YMt/24dA/Y0%2BHrpYaHrF74t8J6z8Qpbae1uLK5kto7Oxlt9FuBfyzywui7lg%2Bd4lG7eSvZfEn9qLwx8OPj58J/wBnWf8AZ10m%2B1vx3ew23jWe1v4jb%2BD2n0%2B%2BurZS/wBnzePNJp13GigRfJbySsU/dxyAHV/8IP8A8FC/%2BjoPgz/4YfVv/moo/wCEH/4KF/8AR0HwZ/8ADD6t/wDNRWf8JvjJY%2BJvit8Wfhx8ZPgZ4R8G2vwyNndw63Dr8d7DfaXcx3MqXdxvtIFsmWO2ZnjDzKob/WcGuT%2BBP7S/jf8Aae%2BH3jDxR8Gf2NfDFvqnhr4jDQLLSvG3ig6Wl1pcmlWWqW%2BpzvFplxLayyQX8ANn5Mjxs2HkBDbQDvP%2BEH/4KF/9HQfBn/ww%2Brf/ADUVQ8D%2BOP2rPB37Vnhz4I/G74j/AA98TaN4m%2BHviHXIZvCvw8vtFurS602%2B0S3RWe41e%2BSWN01SUlQiMGiQhsZB0/gZ8SfBf7Qn7LunftA6B8ObTQJ9U0e5uI7eHypTbXEDyxM0NxGqiaIyRFo5lCiWMo%2B0BsCPxx/ykL%2BF/wD2Rnx5/wCnbwhQB7NRRRQAVzPxX%2BNPwc%2BA/hdfG/xx%2BLPhnwZor3cdqmr%2BK9et9OtWnfOyIS3DohdtrYXOTg4HFdNXzt/wVfcXH/BPj4q%2BGrHwD4k8S6xr/grVNJ8OaV4U8GX%2BuXkuoXFjPHCFhsYJpIgSSpmZVjXfhnXcMgHuXjz4geA/hZ4RvviB8TvG2keHNB0yISalrevalFZ2lohYKGlmlZUjG5gMsQMkDvXP69%2B01%2Bzd4W8M%2BHPGnif9oPwPp2jeMZoovCOrX/iyzhttbkkAMaWcryBLlmBBURliwIxmvIf2q/G8HxT8D/Dr4reD/h/451XQfBfxQ0LxJ4q0WT4c6xBqMuneVcpHLHp89qlzcyW1xLbXTwRxvMn2bOzeFU/MWpfDL4ieEfBHiLxZ4x/Zq8ca5onxK%2BH3xY0nwL4WsPBF5d3WmTa54mlv7KyvLZIi2lrf20kEjPciKG3NuY7h4SqqQD9Mq%2BcfhN4q/bv%2BOuj69478L/G/4SaBpdv8QvFWh6XpV/8AB/VL%2B4itdL16/wBMhaW4TxFAssjx2auzLFGu5yAoAFev6J4a%2BKmkfA7S/COmeMtMh8YWfh21tX13WdMl1G1N6kSLJNJCk9vJMrMGOBLGTnOa8l/YctvEsH7KV7p3jTV7K/1RvjT44t9YvNLsHs7a6kbx5qyTNHA80zwxvlsRtLIVVsF26kA6P/hB/wDgoX/0dB8Gf/DD6t/81FH/AAg//BQv/o6D4M/%2BGH1b/wCain6/%2B1B/wT98Ka7e%2BFvFP7RHwc03U9Nu5LXUdO1DxdpUM9rPGxSSKSN5QyOrAqysAQQQRkVU/wCGv/8AgnB/0dF8Ef8AwttH/wDjtcrx2BTs6sP/AAOP/wAke9DhXimpBThl%2BIaaTTVCu009U01QaaaaaabTTTTaaZY/4Qf/AIKF/wDR0HwZ/wDDD6t/81FH/CD/APBQv/o6D4M/%2BGH1b/5qKfoH7UH/AAT98V67ZeFvC37RHwc1LU9Su47XTtO0/wAW6VNPdTyMEjijjSUs7sxCqqgkkgAZNXv2q/iX8Kv2UP2b/Gv7SXin4XLq2n%2BCvD1xqt1pukaIJri5WJc7EWONiMnGXI2ouXcqqsw1pV6FdN05qVuzT/Js8/HZXmeVzjDG4epScldKpCdNtbXSnCDavpdJq%2Bl76Gd/wg//AAUL/wCjoPgz/wCGH1b/AOaij/hB/wDgoX/0dB8Gf/DD6t/81FUNJ/az/Y/1zxvL8NdL8Na/L4htvDi69qGi/wDCmtdW60%2BweO7eKW6jbTw1q0v2G5WKOYJJM8YjjV3dFZ2mftOfsweJpPDv/CK6ZYIdZ8dTeFb2w8S%2BEtR0fUbG%2Bj0a61cwtZXNgJklNrbrMq3C28bwyeYsrMYo5tThLv8Awg//AAUL/wCjoPgz/wCGH1b/AOaij/hB/wDgoX/0dB8Gf/DD6t/81FUPgp%2B1/wDsL/tBaNN4j%2BG3ibS/7Oi8P6frqX/iLwjd6LBc6XfMy2t7BJqNtAtzbyOpQSxF1D4QkMQKu/tG/ERvhXr/AIP%2BGnwg%2BAHhrxd4z8bXt4mlaXrWqrpFjBa2dq1xc3M90lndOgH7mJVWFy0lxHnYgd1AHf8ACD/8FC/%2BjoPgz/4YfVv/AJqKP%2BEH/wCChf8A0dB8Gf8Aww%2Brf/NRXPa/%2B1J8LYP2LfDX7X/hP4KWV4PF48O2%2BjeHdUMFn5F/rF/aafBBd3IjkW3jiubxFmlVZNqxyFFkO1W4q1/bcXxFfWXws8E/szeArz4lJ4u8QaB4i0a%2B8crbaFp0%2Bj2tvd3OzVBpryTs0F5aOkZtI2%2BabzPKEDmgD1b/AIQf/goX/wBHQfBn/wAMPq3/AM1FH/CD/wDBQv8A6Og%2BDP8A4YfVv/morwLXv%2BCqHwUfXPhoPAXwK8LX2l/Enwd4U8RaJBrviWDTta1mHXLxrZbbRbAWky6vcWYUS3aCeEQpLEdzB8jvPgv%2B2D4c%2BLvxT%2BKXgm3%2BDnwza2%2BGWoa3aXGiaD47TUfF12dPm8pZW0QadGII5yDsY3LclAAd2VAPQf8AhB/%2BChf/AEdB8Gf/AAw%2Brf8AzUUf8IP/AMFC/wDo6D4M/wDhh9W/%2BaiuE/YF/bD8BftwN4iSz%2BEfgOCLQdJ0e/Oq%2BCPFcXiHTw9%2Blyx024n%2BxWxt9Tthbq1zabX8pbq3O8%2BZgfRngwbNDMCk7Ib67iiBOdqJcyKq/QKAB7CgDy7/AIQf/goX/wBHQfBn/wAMPq3/AM1FH/CD/wDBQv8A6Og%2BDP8A4YfVv/mor2aigDxn/hB/%2BChf/R0HwZ/8MPq3/wA1FH/CD/8ABQv/AKOg%2BDP/AIYfVv8A5qK9mooA8Z/4Qf8A4KF/9HQfBn/ww%2Brf/NRR/wAIP/wUL/6Og%2BDP/hh9W/8Amor2aigDxn/hB/8AgoX/ANHQfBn/AMMPq3/zUUf8IP8A8FC/%2BjoPgz/4YfVv/mor2aigDxn/AIQf/goX/wBHQfBn/wAMPq3/AM1FH/CD/wDBQv8A6Og%2BDP8A4YfVv/mor2aigDxn/hB/%2BChf/R0HwZ/8MPq3/wA1FH/CD/8ABQv/AKOg%2BDP/AIYfVv8A5qK9mooA8Z/4Qf8A4KF/9HQfBn/ww%2Brf/NRR/wAIP/wUL/6Og%2BDP/hh9W/8Amor2aigDxn/hB/8AgoX/ANHQfBn/AMMPq3/zUUf8IP8A8FC/%2BjoPgz/4YfVv/mor2SWWKCNpppFRFGWZjgAe5rjPGP7Sf7Ovw7jabx/8fPBehqv3m1fxTaWwH/fyQVFSrSpK85JLzaX5tHVhcDjsdU9nhqU6ku0Iym/ujGT/AAOO/wCEH/4KF/8AR0HwZ/8ADD6t/wDNRR/wg/8AwUL/AOjoPgz/AOGH1b/5qK5jxX/wVy/4Ju%2BDHePWP2tvDMxT739ki4vwfobaKQH8K5j/AIfU/sSat/yTuXx74vz/AKs%2BG/h1qUu/6ebFHXnzzrJ4OzxEL9lJN/crn1%2BH8MfEfFU/aU8nxPL3dGcI/wDgVRU1%2BKPTv%2BEH/wCChf8A0dB8Gf8Aww%2Brf/NRR/wg/wDwUL/6Og%2BDP/hh9W/%2BaivMf%2BHsdlqHPhb/AIJ5/tQaqh%2B5cW/wnKQt/wACe4GPypf%2BHk/x11Qf8Uv/AMEtfjpMT93%2B1tMtrH898hxUf25lb2m36QqP/wBxm/8AxC3jqP8AEwsYf46%2BEj%2BeLuvmj03/AIQf/goX/wBHQfBn/wAMPq3/AM1FH/CD/wDBQv8A6Og%2BDP8A4YfVv/morzL/AIbl/b81Dnw//wAEkPFcgP3f7R%2BJelWh/HcpxSD9rP8A4Kp33/Hn/wAElrSzB%2B6178dtJf8AMJFmj%2B2sG9o1H6Uqn/yAf8Q04kj8dXCx/wAWOwS/D6w2enf8IP8A8FC/%2BjoPgz/4YfVv/moq3%2Byt8RvjT4w1j4oeBPjpr/hfVtU8A/EKLQ7PVfCfhq50m3urWXQdH1NWe3uL28ZZFk1GVCwl2lY0O1TnPkx%2BP3/BXrUf%2BPL/AIJ%2B%2BA9Oz0/tD4rRTY/79JXQ/wDBOvVvjLrut/HnVf2gvCOj6F4vl%2BM0H9r6VoF%2B11aQY8I%2BGxFslYAtmERsfRmYdq6MNj6eKqOMYTXW8oSivvfXyPHzvhPG5DhVXr4jDTu%2BXlpYmlWmtG7uNNu0dNZXtdpdT6ToooruPlwooooAKKKKACiiigAooooAKKKKACiiigAooooAKKKKACiiigDnPi5rXiDw/wDDTWtV8K/DzV/FeopYstp4e0G4soru8Z8Jtje%2BuLe3UgMWPmSoMKcEnCnwP9mPxF%2B1H8DP%2BCcfg3wPD%2BxX4qn%2BI3gD4Q6ZpVt4O1LxR4fhj1TVrK0htBbrdw6jNFHG7oZRKxGIgcgSYiP0/RQB4j%2BwZ4F8b%2BDvhNq2r/FzwB4n0Xxz4n8Uz6z45vPFTaWJdY1KS3t4zcwR6ZfXsMFpHDFBZwRNKZUhskD7z%2B9k8s%2BLGi%2BI/Bf/AAWO%2BA2pav8AFvxBrlp4o%2BG3xHi0/QtVt9OS10VY5PDUrR2rW1pDO6vsBb7TLOw8tdpX5t32DXxp%2B2Rq50n/AILG/sYRs2EvfDfxQtnP1sNHZR/30grlxk/Z0Obzj%2BMor9T3OHcN9bzP2XenWf8A4DQrS/8AbT7LooorqPDCiiigAooooAKKKKACiiigAooooAKKKKAPM9S/Zk/Zt%2BNGj6D4p%2BMX7PfgfxZqdv4ftbWDUfEvhOzv544FUusSyTxswQM7sFBwC7HGSapf8MD/ALCv/Rlnwl/8Nzpn/wAYrk/i9/wUg/Yv/Y%2Bl8OfDT9ov4y/8I7rd94Us9TtbL/hHdRu99q%2B%2BJZN9rbyIMvDKNpYN8ucYIJ5D/h%2Bb/wAEsv8Ao6L/AMsnXP8A5CrxcRi%2BHadeUa86Smnrzezvfzur39TReIeIypfVI5xOkqenIsTUgo9bKKrxUd9lFb7anrf/AAwP%2Bwr/ANGWfCX/AMNzpn/xivTtA0DQvCmhWXhbwtotppumabaR2unadp9ssMFrBGoSOKONAFRFUBVVQAAAAMCvlb/h%2Bb/wSy/6Oi/8snXP/kKvp7wD468K/FDwJovxL8C6p9u0TxFpFtqej3vkPF9otbiJZYpNkiq6bkdTtZQwzggHiujA4jJ605LByptpa8nLe3nypaX7ilxdV4k/dTzGWJ5NbOvOry30vaVWpa%2B10lfa/Q8J%2BGH7C/ivwB488Ka1qfxn03UNB8D/ABQ8VeL/AA1pcPhCSC7C67/azz2lxcm9dJTFLqrFJUhi/dwhGQsxkHketf8ABGGXXvFPj3xJefHbw7FceMvAXj/wv/bVr8L0TW7mPxNIri41XUTfF9Uey2iOFAtunljbtTAYe7WH7fnwj1fTrGbSfCniOa%2ButF8W6ld6TL9gt5dLTw5erYajHdyT3aQQMLt0gRml8tiSxdY1d14Twb/wU%2B8D/Hab4caj8BILOWx134z6j4G8bwX99Y6lLp5t/Bur%2BIUNtc6VfXFnK7G0sDvSeZAk00bBJVPlekQddJ%2BwwH8Q6rr4%2BKGDqfx10n4jmIaJ/q/sWkafpv2DPn/Nv%2BweZ52Bt83b5bbdzd58a/gdqH7QH7POu/BLx/4xit7/AFqwaNPEGh6WYBZXSSia1uooJZZctDKkL7WdldoznAbA%2BePFv/BVaV/gh4U8a/CL4U6/4jvdUg%2BHsniPxTL4fgt9G0VvEl3pypBcwDUmuY7hrW981UgN1FA00HmzMpJb6Q%2BMPx48P/CT4BePPj7daNqVzY%2BAvD%2BsapfWVxp81pLcDToZZZVjE6KWVvJYJKoaNwQyMykEgHOfAj9nv4mfC7VPEfjfx18V9B8R%2BJ/HXiyLVfG1/aeDpbGzltIdMisLeysbZr6ZrQL9nglaSWW53M1wNqiVPJ4j9n79hb4m/ACOxuNN/aA0fV7vwN8MW8BfB19R8DSiLQdI82BwdRRNQD6rORZaejyRvZhltOFVpGat/wDZa%2BNnx%2B8Q/FTxN8Bv2lR4RufEWjeCvDviu11LwXpVzZWgtdVk1KA2TR3NzcO8tvPpc2Zw6LKk0ZEUZDLXDfCj9r/9oz4lfELRIro%2BCrDwx8UL3xlpPw42eH7yW90O80a5mitbjUW%2B2qmoRXMVtPO8US2jQkJCJJNxmUAZ/wAMB/tIH/gnNP8AsGP%2B1J4IN7PZyaT/AMJiPhJeCJdHeM5i%2Bxf25n7V5hLC48/y9uF%2Bz5%2Bc637RX/BM7wR%2B1Pp%2BneLfin8Rdd0/4hHUfCM/iXxP4G8T%2BIdD0/VIND1uHVFgXS7fV/LhLbbmOGZnlmtZLrz0dpI1ql8Lfjv%2B2N4v8J/GfUde%2BJnw%2Bmg%2BHnjZNC8O%2BKPDvwT1y/XUPstpBLqhGkW2szXN2yXM7WaCGZWElpOTG42isvSP2zv2m/E/7PPwX/aD0i38D2lp4p%2BKFv4W8cadfeHb77Re21x4gGkwXNmn21G0mYxq9xJa3YuJbeRxbSKJIpDQB1nhr9g/xdofx1034hXvxysbvwv4f%2BJWveO/D%2BiHweV1VNW1WyvbSWK51M3ZW4so11C48uFbaJwsdtG0rJAFbktK/wCCUHhS48J%2BNT4r1b4f2fibxTceHbmwn8A/CiPQtD0%2B40TVhrFnNJpn2ydrt5L4K1yz3IM8UccQ8oLuPUS/tT/F3Sv27NT%2BBvj3xPonhPwQmqafYeEv7W%2BE%2Btu3iiefTBcyRQeIPtaabDOsxdFtzE8rCJlCkncOE8Eft8/tAW3wv%2BMPi/4l3HhdPGfgrwt4q1zwt8LdT%2BG2seFbie0029uIba7Op6petb6lavGtoZJ7WNI0a7jy6blUgHpHhv8AZN/aP8B%2BCvEuneB/2ifAseveP/FWo6749vdX%2BEk93plxLc2traKljYLq8ZtFSK1QsJproSySSu4y5Fche/8ABKzTdNtNM8H%2BAPjHHZeG5/CPgnw942Gt%2BGP7Q1nWIfC8/m2Fxb6gLmIWdxIMLLI8FwPlV4lhky7L%2Bz/%2B1X%2B01%2B0B8OPHt3p/xP8Ah54buvAnie3S98ZeNPhHreiRf2S2kx3sz3Hh/UNUgvrFkklCrPPcrFJEjyqhUDND4m/tZfto3X7Dvgb9qb4V33w88P8AiTxdZ6Pp9j4M8VeANS1EavrOqX8NnZPDJHqtnJaWshnjnKSRSyRQlmc/I1AHZ%2BFP2Ifile/Ff4qeMvj38b/C3jbRPinp99o13aJ8Prqx1XS9AkSSO10i3vTqssKW8KSyM5W0Vp5pHlcglQuP8P8A/gl54XuGef8AaP8AiO/iiWy8P%2BGdD8Nv4Bh1HwWdOtNCN%2BbGZpNO1EzyXedRn3SJLFDhUEcEWDuy9X/by%2BNml/t8L%2BzdJpGgp4cX4iWnhgW8vhDUgbi3m8PLqZv/AO3xcf2dDcidmhXR3iN48aLKDslVgeNf2zv2nfgZq3xI8BePpvh7441vwz4U0G602/8ACfh%2B%2B0qy0nWtY1I6fZaZqCzXt20oZpIbjzI3hk8lWJhQSRMwB1Hw7/4JxaL8O/2b/A37MNt8XdX1Hw/4Z%2BJ0Pi7X21mW8v5dcSDUZdTtrHfd3kz26JeCxlY7pFkFrIDGDcM63fjL/wAE2Pgv8Vvj/wCHP2j9N8UeL9A1/TPiNZ%2BLfEMWm%2BPddjstamtdJl02JDZRahHa27%2BUbYNMkJLxwNE4ZZpM4N3%2B0r%2B07pvw9%2BJmkeIfGvhOz8V/CTxtb6ZruveH/gnr/iS21uwudKsr%2BCS10TTtSa9hlBv0ifE9wqi2kkICyDy%2BKuv%2BCjX7Rer/AA2t/jXoPhDwRp2jeDfg34Q8ffE7RrgTalNqC6zJdG4s9MvLe6SGA21vZTSrM8dys7SxxgRhWkIB6cn7D/jzxt8YPjBrn7QPxZ8MeJ/h78XdHt9K1DwXofg7UtF1C1tLUypaodUi1l2c%2BTM6StHBCZGwyeSuY25HV/8Agl34s8MfDX4o/Dv9n39qvXvD6/Ff4h2Wt%2BIbvxlda54nc6PDptpZz6QJLnWkuFa4NsfMvY5o5zBKIBjyYJI%2B4uv2mfi78NP2j/i/4O%2BLknhm/wDBngn4VWXjjw8nh/Rbm31KO3efVYpre5mlupI7h9unBlaOKEAyEEN1ryPxF/wUe/aD%2BBnw%2B1KT9oLS/A9x4k1fwn4K1rwfP4b0XUEsrCXxFqzaUbO6h%2B0Tz3xspTHL5kHlPeKxjjghcLuAPqnw74T13wH%2Bz%2BvgnxJdeHpbrSfDctoD4T8OvpGmpFHEyxR29m9xcG3jSMIgTzXA28YBCjkPHH/KQv4X/wDZGfHn/p28IVZ%2BBvxXvfjF%2BzhqvijWPiVovijUbcalY6ne6L4Kv/Dgt54t6tbT6ZqNxPdWc8YwHjmfceG2qGAqt44/5SF/C/8A7Iz48/8ATt4QoA9mooooAKKKKACiiigArwX9j/8A5N61f/svfjn/ANWBqte9V4L%2Bx/8A8m9av/2Xvxz/AOrA1WgDrNf/AGJv2MvFeu3vinxT%2ByP8MdS1PUruS61HUdQ8A6dNPdTyMXklkkeEs7sxLMzEkkkk5NVP%2BGB/2Ff%2BjLPhL/4bnTP/AIxXnfj/AP4LKf8ABNz4X%2BO9b%2BGnjr9o77Drfh3V7nTNYsv%2BEQ1iX7PdW8rRSx747Rkfa6MNysVOMgkc1kf8Pzf%2BCWX/AEdF/wCWTrn/AMhV4M8bwwptSnRvd3v7O9%2Bt9N73uaf8RNxND90s8nHl0t9bqq1tLW%2BsK1rWtZWtaytZezaB%2BxN%2Bxl4U12y8U%2BFv2R/hjpup6bdx3Wnajp/gHToZ7WeNg8csciQhkdWAZWUgggEHIrW/aa%2BCdl%2B0n%2Bzp47/Z71DX5dJh8b%2BEdQ0N9VggEr2f2q3eETBCQHKFw20kBtuMjOa8a8A/8FlP%2BCbnxQ8d6L8NPAv7R327W/EWr22maPZf8IhrEX2i6uJViij3yWiom53UbmYKM5JA5r3H46/GHw5%2Bz78HvEfxv8ZaZqN1o3hXSpdT1lNKhSSeKziG6eYK7oGWOMPKwznbG20M2FPoYGtltaEng5QaT15OW1/PlS1t3JlxJU4k/ezxrxPJpd1ZVeW%2BtryqVLX3smr726nkfiL9ib4heP8AQfi7L49%2BPtrF4k%2BLfw703wzfa14T8KzabDpslmNRC3MUUl9PIyOL8BojMDiJsSDzBs4b4I/8EpovhF4ih8TQ/EnwhYbfi4PHL6D4C%2BF8egaRAw8I3nhw2dtapeSmEN9qF20rPIzOjKR84dPRfjP/AMFEPg78FtL8Xa5qnhvU9QsfBXi2z8N6xqI8QaDpVo9/cabFqISG41fUrOGTZBPAGAffvmCor7JCnI2v/BR3SfFPj6O/8E3FpceAtc8GfCTXfCOqxaFJPeXX/CYeINW00rMj3cKxxiKzsyrAF4GkmdkucLBXcSdX8Df2KPEPwCj8CXfhH4uWVzf%2BBvgbpXw6t5dQ8Lu0N39jkgY3zRpdqy71hYCEOdhcHzG27W6z9o34BeOPip4g8H/Ez4P/ABP07wj4z8E3t4%2BlaprXhp9XsZ7W8tWt7m2ntUurV3B/cyqyzIVkt4870Lo3mHg3/go0fiZ%2B0V4P8EeEPg/4msvAPiPwV4s1%2B08WapoSzt4hh0m406GOfS47K5mnMb/apW8qe3SeYNA0KEE59J/ak%2BNHxA%2BHujeBfC3wcTSIfFHxJ8b2/h3QtQ8T6XPcWWm5srzUJ7me1jmt5ZttrYXAWISxEyMgLKM0AU/Dv7LGseAv2XbX9lbwZ4p8L6hoemeB7DQrH/hO/BLaxHeTx7hd3OoQLeQR3cdwm3MCCHY5kbe6uqJ53Z/8E14vDf7PL/Bfwje/CR7zVvGU3iTxHP4m%2BB8Oo6Ml28CW8R0zSRfxR6cbeCG2igLyXG1IPnErOznodK/a6%2BKb/sE%2BNf2j3%2BHdlrHjjwL/AMJXpl9omjw3As9Q1PQ9SvtNlmhjBknW3lksjOIgZJVjfZl3GTyfwR/bM%2BI/x68H/EzR/BX7TXwgur/4YahZXeofFLS/A17feGdR0efTzdM0dsmsqySwyJPG8i3s0Y8g5UOzRxADNa/4JZrZaPafDH4YfG%2BPSfAc/gnwl4W8Q6RrXhb%2B0dUks/D9zJPbSWN%2BLqFbGaUysZHeC4Ak/exrG5JPafEz9jH4i/Hj4of8JV8ZfjnpQ0LSdN8R2XhCw8E%2BDJdI1SwTV7V7R2udQkv7n7Q0UEhK%2BVDbq0yxyspMaKPAfHf/AAU4/ah%2BEf7OfgX4sfGaf4Z%2BEtX1b4MXvxAvbfXvDeoQxeKLhHE1v4a0yL%2B0C1pqJtHi8zc944kkBS3kRX2%2B2/EH9qz4ueDv2nvhf4Q0bUNI1Pwd8UL23Sy0if4b6rZz6faSadcXBnfxC922myXAltiRpwhW5eOTKghDIwB0X7Kv7JXjX4F%2BNtV%2BJHxM%2BK%2Bi%2BJdYvPBOg%2BErJPDPgs6DZ2%2BmaS169uZIDd3RluGa%2Bl3SB0jVVRY4oxu3%2BveD/wDkEzf9hW%2B/9K5a1Ky/B/8AyCZv%2Bwrff%2BlctAGpRRRQAUUUUAFFVdZ1zRfDmmy6z4h1e1sLOBd013e3CxRxj1ZmIA/E14J8Uv8Agqx/wT4%2BEVw2n%2BI/2oPDuoXobYth4YeTV5mk6BMWSygNnjDEYPXFc2IxmEwkeavUjBebS/N/oezk/DnEPENX2eV4OriJdqdOc7erjFpfOSPoWivkc/8ABTz4mfEsfZ/2Vf8AgnZ8X/GTScW2qeJdPi8OaXNnoy3V0zZH1UUn9kf8Fm/jXzf%2BL/hH8E9Nl%2B6NMsJvEWrwZ/vedi1bHbGOc1xf2zhqn%2B7wnU/wwdv/AAKXJH8WfU/8Q2zrCa5viMNgl1VfEU%2Bf/wAE0XiK1/Jxi%2Bmj0PrmvKPi9%2B3R%2Bx18Bmlt/iz%2B0p4P0i6hz5mnPrUUt4Mf9O8RaX/x2vHv%2BHT9r8S/3/7XH7Zvxd%2BJ/mf8fOjS%2BIzpOjy%2Bv%2Bh2mNufaTpXq/wg/wCCff7E/wAB0ib4W/sxeD9PuIceVqFxpCXd2uP%2Bni48yX/x6j22c1vgpQprvOTk/wDwGCt98hf2b4aZZ/vOPxGLkvs4ejGjD/wbipObXnGgu67HlR/4LCfBfxq5h/Zp/Z9%2BMXxXDHEN/wCDvh/cCxJ9XmuTFsX32mkP7S//AAVY%2BKX7r4T/APBPnw34Ht5P9RrHxP8AiDHMD7vaWKiZMemTX1sqqihEUBQMAAcAUtH1HMKv8XFNeUIxh%2BL55B/rTwfgf%2BRfkVOTW0sTXr4h%2BrhB4al8rNeR8kr%2Bzh/wVm%2BI/wDpPxH/AOChXhPwOkn%2Bu0r4dfDSG7THolzfsJV%2BuM0o/wCCWXiTxT%2B9%2BL//AAUZ/aF15m/1trpvjZNLs5PrDDEf0avrWij%2BxcDL%2BJzT/wAU5v8ADmivwF/xE7iqjpgvYYZdPY4XC07f9vOhVn83NvzPkyL/AIIm/wDBP%2B/kW58feBPE3i6cHJuPEvj3VJmY%2Bp8udAfyrs/B/wDwSt/4J2eBpFl0T9kLwZMV6f2vpx1AfldNIDX0BRWkMmyim7xw8L/4U397TOXFeJfiJjafs62cYlx7KvUjH5RhKCXySOY8J/BL4M%2BAo0i8C/CPwxoqx/6tdJ0C3tgv08tBiunoor0IQhTVoJJeSS/JI%2BQxGKxWLqe0r1JTl3lKUn98pSf4hRRRVGAUUUUAFeM/sv8A/Jb/ANo7/ss1j/6hXhevZq8Z/Zf/AOS3/tHf9lmsf/UK8L0AezUUUUAFFFFABRRRQAUUUUAFFFFABRRRQAUUUUAFFFFABRRRQAUUUUAFFYHxS%2BJvhL4N%2BAtR%2BJfjp9SXStKjR7s6RoV3qdyQzrGojtbOKWeZizKNscbHnOMAmsqL9ob4NS/s/wBv%2B1K3jmCLwFdeFYfEkHiG5t5YkbTJbdbiOcxuglBaJlIjKCTLBdu7igDtK%2BEP%2BCkeqf2H/wAFX/2INU3YzfeNbXP/AF3TRIsf%2BPV9g/Bn45/DT4/eGrrxV8MtVvpodP1OTTtUs9X0K80u%2B0%2B7REdoLmzvoobi2k8uSKQLLGpaOWNxlXVj8Of8FgtQfRv%2BCi37D%2BsLkLH491SKVv7qS6j4djJPt81eZnEuTLpy7OL/APJ6Z9v4c0PrXGWGo/zxrr78Li/8j9EaKKK9M%2BICiiigAooooAKKKKACiiigAooooAKKKKAMrwN/yJOj/wDYLt//AEWtatZQ8GaGmVga%2BhTJIit9WuY0X2VVkCqPYACl/wCEP0n/AJ%2B9V/8AB5d//HaANSisv/hD9J/5%2B9V/8Hl3/wDHaP8AhD9J/wCfvVf/AAeXf/x2gDw/xB/wTT/Z88S%2BI/jN4l1DV/Ewl%2BNunW1nrlumow%2BTogiUlpNNQwkQNNORczCXzUlmVSylfkL/AAV/wTu%2BHPhbxdH8QvEHxi8feKfEB%2BJ0nju81jxBe6f5l3qbeFZ/C/lslrZQxJbiwnLLHEkeJkRs7N0be2/8IfpP/P3qv/g8u/8A47R/wh%2Bk/wDP3qv/AIPLv/47QB85f8OpPgxZ%2BF9A8A%2BHPjP8SNI8O6RY%2BEIdU0HTtT08QeIJvDTWp0y7vGexaUTbbK2SX7O8EcqRKGT5Vx9A6x8OtI8W%2BB9d%2BHXxCvrnxHpPiKG%2BttStdUjhUNZXQdXsx5EcYMSxuY1LZkKgb3dssbn/AAh%2Bk/8AP3qv/g8u/wD47R/wh%2Bk/8/eq/wDg8u//AI7QB5n8Dv2PdL%2BBcmpazp3xz8d%2BINf1SHRbG68UeJp9NnvjpGlSSvaaSPLso4vsw%2B0XYZzGbljeTOZ/MKyLD8Lf2Ifhx8KPjD/wtnSfHPirUILK61u68L%2BEdUurVtK8OT6vdi71KWzWO3SctNNuI8%2BaYQrLJHCIo3KV6l/wh%2Bk/8/eq/wDg8u//AI7R/wAIfpP/AD96r/4PLv8A%2BO0Aee%2BFf2Vrb4cfAbT/AIF/CT43%2BNfCrWOqXWpTeLtNGl3Gq393dXU93eTXH2yxntZGnuLmaWQi3HzNldmBXG%2BM/wDgnX4b8R/B/wAK/Bvwt%2B0p8S/Clp4Z8aS%2BLrjVdEbRJ73XNck1Q6s19eNqGmXKb/tzyz%2BXAkMX71kKGMIie6f8IfpP/P3qv/g8u/8A47R/wh%2Bk/wDP3qv/AIPLv/47QB534z/ZTX4k/EvRvG/xD%2BPnjrWNF0HWrDWdP8BT/wBlRaQNRs41EF0zQWCXjlZlFz5bXJi87B8vaqoOb8V/8E/PA/xSvfEF/wDHf41%2BP/Hcms%2BDNU8LaadcutNtf7A03UJraa6Wz/s6xtf3rSWVmRNP50i/ZUw3Mm/2j/hD9J/5%2B9V/8Hl3/wDHaP8AhD9J/wCfvVf/AAeXf/x2gD588ff8EzPCnxN8Daz4W8Z/tRfFO81TxP4o0rWPFfiqRtBN3rcOnRMlppdzbnSjYPYKxErQC1UyuP3jOrOjeoar%2BzfpXiy4%2BHGofEj4leJfE178Ndel1rT7vVBYRHVb9rK6s0mvI7W1hicxR3krRrEkSiQI5DMgNdn/AMIfpP8Az96r/wCDy7/%2BO0f8IfpP/P3qv/g8u/8A47QB5LdfsJ/Dy7%2BNU3xak%2BJXjEaZc%2BN4PGVz4AW7s/7Fl1%2BG0jto78k2v2wMFiik8kXIgMsYkMRYknn/AIZ/8E2/B3gL4PeMfgb4o/aN%2BJXjXQ/G8lzd6vL4obREvl1SadZzqq3dhpltO94kiRmN5XkSMQxKqBY0Vfev%2BEP0n/n71X/weXf/AMdo/wCEP0n/AJ%2B9V/8AB5d//HaAPJtB/Yz1Pwj4Y1Sw8G/tafE7SvEXiLxK%2BueLfHUEXh%2BXU9duTaQWaLPHPpL2cccdva20aLb20JUQA5JaQvgXn/BMb4DCw0Dw34c8YeMdF0DTPC2j%2BHPEPh3T9Tt5Lbxbpml3Ul3Z2%2BpPcW8s77Zp7lne3lgeVbmVJGdCFHvH/CH6T/z96r/4PLv/AOO0f8IfpP8Az96r/wCDy7/%2BO0AeWt%2BxtZXn7TXiD9pLxB8fvHGqxeJvC8fhzV/AF/a6IdDl0uP7U0dt8mmre7VkvLiXcboszPtdmQBBzfhn/gmt8J9C8E6r4S1n4sePfEF5dad4e0/QvEuu6hYyaj4ctdBvDe6PFZNHZpGxtrpjOJLmOeWdgBcPOoCj3b/hD9J/5%2B9V/wDB5d//AB2j/hD9J/5%2B9V/8Hl3/APHaAOF%2BHvwG0D4A/CXxZpGm%2BLNb8Q6lr91qGteI/EniOS3a91W/mhVGmkFtDDAmIooYlSKKNFSJAFzknH8cf8pC/hf/ANkZ8ef%2BnbwhXqJ8GaG%2BFna%2BmTIJiuNWuZEb2ZWkKsPYgivLvHH/ACkL%2BF//AGRnx5/6dvCFAHs1FFFABXO/Ff4r%2BAfgj4CvfiZ8TdcbT9HsHgjmmis5rmWSWaZIIIIoIEeWeaWaWOKOKNGkkkkREVmYA9FXkH7a/wAN/H3xD%2BE%2BkX3wy8MtruseE/H/AId8Tw%2BHUu4YH1aLT9Tt7ie2jkndIlmMKSGLzXSMyrGHdFJdQDbsv2rfgJffAu6/aRTx00PhCxknhvr280i7t7m2uYbk2klpJZSxLdJdC5UwfZWiExlxGELkKca7/bn/AGbLLwNY%2BPZPE3iCSPUfEEuh2mhW3gHWptdbUooHuJbVtHjszqCSJAjTsGtxti2yHCMrHyzwr8CfHfif9nb4oeHvjJ%2Bz94ztrvx343vPHGn6B4c1/Rl1LS7hL%2BCTTreGdr37MupRGwtb0lnNoJZNnnSgNnyBv2I/2im0o/E74kfDf4m%2BME8T/HS88ZeIPD%2BnfELS9I8dWNv/AMIpbaDaSLqenXlhZwOzWe%2BaGxuoU8i4jiDSrHKkoB96/Dr4h%2BCvi34C0f4n/DjxFBq2ga/psN/pGpW2dlzbyoHRwGAIyCMggEHIIBBFePfsf/8AJvWr/wDZevHP/qwNVrX/AGWfgx8UvAv7EHgj4F%2BNPFEvhLxRpPg200241DwrDYPLpLRoFRIhLbSWkkkaBUZvIaN2DMq4IrJ/4J7%2BGpLT9mPUfCviPxDe6/Jb/Fr4hQXWraokCXN86eNNaBnkFtHFEsjEbj5Ucahj8qqMAAHvVFZX/CH6T/z96p/4PLv/AOO0v/CH6T/z96r/AODy7/8AjtAGpVTXtC0fxRod74Z8RabFeafqNpJa31ncJujnhkUo8bDurKSCPQ1W/wCEP0n/AJ%2B9V/8AB5d//HaP%2BEP0n/n71X/weXf/AMdoA%2BfvBP8AwTB%2BFHw0%2BEfgP4YfDz41fEfStQ%2BH2t6nqml%2BOV1PT7nW7yW/SaK6F1Jc2UkEm6KbyldYUljSGIRum0k2PA3/AATE%2BAfw/wDDXh7wroni3xhJbeGvDXw80Owa71K2eR7bwbqt3qmltI32cbpJZ7yVbhuA6KgjELAu3vP/AAh%2Bk/8AP3qv/g8u/wD47R/wh%2Bk/8/eq/wDg8u//AI7QB4h8Nv8Agnd4F%2BFPxE0v4geEvjr8RFXwv4b13QvAehXF5pslh4Ws9VmtppktENjvlMT2kHkm6e42Kmw7k%2BWvSPjn8A9E%2BO/g3S/Dmr%2BNNd0TVNA1q11jw94s0B7VdR0zUIAyrcxCeCW3YtHJNE6SQvG8c0ilMHjp/wDhD9J/5%2B9V/wDB5d//AB2j/hD9J/5%2B9V/8Hl3/APHaAOL%2BG37Nth8IvhhD8K/h78VfFVhapp2rrcaiTYTXl1qmpXTXlxrUjy2jKb37TLcTABRbF7mTdA4EYTmbn9hXwBrvwV%2BIPwd8d/E/xl4jm%2BKrbfH/AIu1S5sY9U1a38iK2Nofs1pFbQW5tYvs/lwwRjZLKwxLI8p9a/4Q/Sf%2BfvVf/B5d/wDx2j/hD9J/5%2B9V/wDB5d//AB2gDiP2hv2a7X9ozw%2BngLXvi/4u0DwpdafPp/ifwp4abT4rXxFYzBVktbmWa0luYozGHjzaTW77JXBb7pWl4s/ZQsfHnxW0jx/4z%2BNnjTUNB8P67bazoXw5b%2By4dEsr63h8uCVWhsUvXCMTKscl08YkIOzCqq%2Bif8IfpP8Az96r/wCDy7/%2BO0f8IfpP/P3qv/g8u/8A47QBqVleD/8AkEzf9hS%2B/wDSuWor7w54c0yzl1DUtXv7e3gjLzzz%2BILpEjUDJZmMuAAO5r57%2BJH/AAVW/Y7%2BGeqj4XfCHV9U%2BKXixQUtPCPws0x9YnkfODumj/cr8x%2BYmQsOSQTXLicbhMFHmrzUb7Xer9Fq36JM9zI%2BGeIeJa7pZVhalZx1k4xbjFd5zfLCC7uc4K2tz6erkfi58fvgh8A9GXX/AI1/Frw94VtJM%2BTLrurRWxmI6iNXYNIfZQT7V81LoX/BVn9r9vO8R%2BItF/Zu8GT8jTtH2a14ouYj2ec4gtcjBBTEiHIIOK7P4Pf8Epv2OPhdrZ8c%2BK/BF38SPFk2Dd%2BLvihftrd7O46NicGJGByQyxhh61xfXcfiv91o2j/NUvFfKCvN/PkPqHwvwnkX/I%2BzNVKi3o4NRrST7TxE3HDQffk9u13Oa1b/AILC/AHxZdy%2BHv2UPhf8QvjPrCv5UcXgnwlcLZJJ/wBNru4VFiT1kAYDr0qtH4T/AOCuf7TrfavFvxC8H/s7%2BHZuV0jw7aJ4h19kPVJbiTFvGcdHiwwOeK%2BuNO03TtIsYtM0mwhtbaBAkNvbxBEjUdAqqAAPYVNR/Z%2BLxH%2B9YhtfywXs182m5v8A8CQlxhw/lCtkOU04T/5%2B4qX1up6xhONPDQfpRqPsz5P0T/gjr%2By7rOpxeJ/2kfFXj34ya1G29b/4j%2BMbm5jifv5cELRxqnYIwYAcV778Lf2c/gB8ELdbf4O/BTwr4YCrtL6FoNvbO3%2B88aBmPqSSTXZ0V04fLcvwkualSin3td/%2BBO8v/JjxM4434v4gpexzDH1alPpDncaaXZUoezpJeSp2/MKKKK7j5cKKKKACiqOu%2BJvDfhe0N/4m8Q2OnQDrNfXaQoPxcgV5l4w/b3/Yi8A708WftbfDq1lT79sPF9nJMP8Atmkhf9Kxq4nD0FerOMfVpfm0c9bF4TDK9apGP%2BKUV%2BbR63RXyvr3/Baf/gm/pN4dK0n4%2Bya9fH7ll4d8L6leO/8AuslvsP8A31VEf8FdvAur/P8AD/8AYn/aQ8UxN/q7rQ/hPI0Le%2B6SZCB74rhed5QnZV4v0bl/6SpHmviPIU7LEwk/7rcv/SIzPraivkof8FNvi3c/vdO/4JdftBtEfum58NQQv%2BKmYkUH/gop%2B1Hrh%2By%2BA/8AglL8XLm6/ueIL2y0qL/v7IzD9KX9tZd0k36Qqf8AysX%2BsWUvaUn6U6r/APcR9a0V8k/8NAf8FfPF3zeHP%2BCfngPwkr/c/wCEr%2BKkV8V92Fmg/IUHw9/wW38Zcap8Q/2efBkLfdbRNJ1bUbhB7/aCIyfpxR/a0Jfw6NWX/cNr/wBKcQ/tynL%2BFh60v%2B4TX/pcofkfW1FfJQ/Za/4KxSj7VL/wVR0aGR%2BWtIvgfprRR%2Bys0m4j60H9lD/gqtqf7rUv%2BCr9hYxjqdN%2BBulu7j6yS/L%2BFH9o4r/oEqf%2BU/8A5YH9rY3/AKAav30v/lp9a0V8lf8ADBf7ceoc%2BIf%2BCtfjmUn739m%2BBtMtB%2BAUnFH/AA7s/akj%2Be3/AOCrXxbDnqZbKycZ%2BhXij69j3thJf%2BB0/wD5Jh/aWZvbAz%2Bc6S/9uZ9a14z%2By/8A8lv/AGjv%2ByzWP/qFeF68xH/BP39sRRhf%2BCsXxKx2z4b08/0rof8AgnX8P/GPwt1v48%2BBPH/xZ1Lxzq9j8ZoPtfinV7aOG4vd/hHw3Iu9I/lGxHWMY6iME8k10YbE4mtPlqUHBd3KD%2BXuts6sJjMZiKjjVw0qatu5QfytFt/ofSdFFFdp6IUUUUAFFFFABRRRQAUUUUAFFFFABRRRQAUUUUAFFFFABRRRQBznxc1rxB4f%2BGmtar4V%2BHmr%2BK9RSxZbTw9oNxZRXd4z4TbG99cW9upAYsfMlQYU4JOFPyz4L%2BD37RnjD/glT4N/Zg1n9nbXfC/jjwb8O/C8TaX4i1rR3ttQ1LQ5bCQ2Insb65UJctZFVkYBRHKDJsbKV9k0UAeKfsh%2BCviXaeK/ix8a/ib8OL7wbN8SPHltqml%2BFNVvrO4vbG0tdE0zTFe6axnnt/OkkspZMRTSARNCC24Mq/F//BZjwX4k8IftdfAz4oav8XPEOuWdtf3%2Bp2Gh6rbaclpoQj8QeFEK2rW1pFOwbzRk3Es5%2BUbSvzZ/Tuvzm/4L5K1pZeHPFEakvoXw016/XA5BXxb4FXP5Oa8nPf8AkTYh9ot/dZ/ofoHhTr4lZRD%2BevCH/gxTp/8AuQ/RmikR1kQSIwKsMgjuKWvWPz8KKKKACiiigAooooAKKKKACiiigAooooAKKKKACiiigAooooAKKKKACiiigAooooAKKKKACiiigAooooAKKKKACiiigArxnxx/ykL%2BF/8A2Rnx5/6dvCFezV4z44/5SF/C/wD7Iz48/wDTt4QoA9mooooAKKKKACiiigArxn9g/wD5Ihrn/ZZviP8A%2BprrdezV4z%2Bwf/yRDXP%2ByzfEf/1NdboA9mooooAKKKKACiiigAooooAKKK%2Bcv2j/APgpD8MvhJ43/wCFC/BPwnqXxY%2BK0%2BVt/Afg5hIbRhwXvrnBjso1yNxbLKCCVCndXNisXhsHT560rLZd2%2BySu230STZ7OR8PZ1xLjfquW0XUmk5O1lGEVvOpOTjCnBdZznGK73sn9DalqWnaNp8%2Br6xqEFpaW0TS3N1cyiOOJFGWZmYgKoAySeBXyh41/wCCmGtfF7xZd/CD/gm98IJPizr9pN5OqeMbiVrXwror%2Bst4cfaWA58uE/OOUdiMV558Uvglqvjyyt/i3/wWh/az8P8AhzwwZRPpfwX8Oa8dP0dSpyq3Mu8T6lKOMqmQrA7WKnbXWeDv%2BCon7M%2BmeHrb4Z/sEfss/EH4jadpy%2BRYQfDrwDJZaNa4PIaedYliGc/NsIJ5zzmvCxGaVKs%2BSdRUIvo7SrSXlBc3J6tSl5I9/F5j4acBT9nja8Myxy/5dwlJYWD/ALzglXxTXanGjQf/AD8qLV3tO/4Jm/ED9oa/h8Xf8FJv2j9V%2BIrrIJofh34Ylk0nwvZMDkL5URWW7KnpJIUYjIYNX0x8K/gt8Ifgb4dXwl8HPhloXhfTVxmz0PS4rZHI/ifYo3t6s2Sc8mvm4fHL/gsF8Uzu%2BHX7Fnw2%2BG9u/wDqrn4mePH1Jiv94xaaoZD/ALJ5FK3wL/4LC%2BOlMPi39uP4b%2BCo5eJf%2BEJ%2BHBv2QHrsa%2BYc%2BhNXhZ4PDSc8Nhak5Pebj7z9Z1JKX4JeR8rnvifxLxLRjh6ka0sPH4KNOmqGHj/hpc1Kmv8AFKE5vdzb1PrckAZJwB1NeYfE39tf9kL4NSPb/E/9pjwRo1xGTusbrxJb/aff9yrmQ/gteKj/AIJD/D74hkXP7WX7T/xc%2BLLvzPpmveMZbPSz67LW02eWD6B69Q%2BGP/BOf9hT4PIn/CA/speCbeWMYjvL3Q4725X6TXIkk/8AHq7fbZ1W%2BClCC/vScn90El/5MfLe34gr/BQp01/fm5P/AMBpxS/8nPOtW/4LU/8ABPmO%2BbR/BHxO1vxjqCdbDwj4M1K7c%2BmGMCoc%2BzVX/wCHn/xJ8Zfu/gj/AME0vj1rhb/U3XiLw5DodrL6FZp5G%2BX3Ir6t0nRtI0GyXTdD0q2srZPuW9pAsaL9FUACrNP6rm9T48So/wCGmvznKX5B9Tz2r/ExcY/4KUfznOT/AAPklfjj/wAFhvHp87wj%2Bw98NfAsTfcXxz8RzqL47EjT1GPpSjw//wAFvde/eaj8Qf2btBB6R6VpOtXRA9zOQM/TivrWij%2By5S%2BPE1X/ANvKP4Rgg/sWcv4mLrS/7fUfwhTR8lf8KV/4LGaj/wAfv7bHwu03PX%2Bz/hw02Pp5r0N%2Byb/wVN8Qf6N4l/4KqWenWzf61NA%2BDOmrKR6LJJJlPqOa%2BtaKP7Hw7%2BKpUf8A3Fn%2BjQf2DhH8VWq/WtU/Ro%2BSR/wSy8VeKf33xf8A%2BCkH7Q2uO3%2BsttJ8appVo/rmGGIj9aUf8EU/2H9R/eeN7Xx34nlP3p9e%2BIupSO31McqCvrWij%2Bw8pfxUVL/E5S/9Kkw/1byN/HQUv8TlP/0qcvyPlfQ/%2BCKH/BMXQbsX1v8Asu2txMDktqPiXVLoMfdZbplP5V6b4O/YH/Yi8A7H8J/sk/Dq1lT7lyfCFpJMP%2B2jxs/6163RW1LKsroO9OhBekI/5HRRyTJsM70sNTj6Qh/8iyjoXhnw34WtBp/hnw/Y6dbjpBYWiQp/3ygAq9RRXckoqyPSSUVZKyCiiimMKKKKACiiigAooooAK8Z/Zf8A%2BS3/ALR3/ZZrH/1CvC9ezV4z%2By//AMlv/aO/7LNY/wDqFeF6APZqKKKACiiigAooooAKKKKACiiigAooooAKKKKACiiigAooooAKKKKACis3xn4x8K/Dvwfq3xA8c6/a6VomhabPqGsapeyhIbO1hjaSWaRjwqIisxPYA1yPww/ak%2BB/xd8Da98RfCfi25ttM8LSyR%2BJh4l0K90W50gpbR3RN1a6hDBPApt5Y5gzoqtHIrqSpBoA9Ar4E/4LfaN/bvh%2B5stm7Z%2Bz342uMf8AXHxF4Ilz/wCOV9c/Ar9qX4KftIPqVt8Kdf1Oa50i3tLm/wBP1zwtqOj3SW12JDa3Ig1C3gle3m8mby51UxuYZArEowHzj/wVY0b%2B3b/VLHZu2fso/FO4A/65XnhSX/2SuDNYe0yuvHvCf/pMj63gDE/U%2BPMpr/y4rDv/AMr0v8z6y%2BFWs/8ACRfC/wAN%2BIN%2B77foFncbs9d8CNn9a3q81/Yz1n/hIv2P/hTr5fcb74baFcE%2BpfT4G/rXpVdOGn7TDQn3jF/ek/1PFzrDfU86xWH/AJKtWP8A4DUqR/8AbQooorY8wKKKKACiiigAooooAKKKKACiiigAooooAKKKKACiiigAooooAKKKKACiiigAooooAKKKKACiiigAooooAKKKKACvGfHH/KQv4X/9kZ8ef%2BnbwhXs1eM%2BOP8AlIX8L/8AsjPjz/07eEKAPZqKKKACvP8A9pf443PwB%2BGsXizRfCK%2BINa1XxDpeg%2BG9Dk1H7HHe6jqF7FaQLLP5chghVpfMlkEcjLFG5VJGCo3oFefftL/AAOuvj98NYvCei%2BL18P61pXiHS9e8N65Jp32yOz1HT72K7gaW38yMzws0XlSxiSNmikcK8bFXUA8%2Buf26LrQv2XvFPxu8W/CmO08T%2BDvGJ8I634St/EQktI9YfUoLCDGoPAmLKQ3VrcG5aBWjglLPEGRo65DxZ/wVB0nwH4S1HSfG3hfwRo/j7R/ihJ4F1jTtW%2BJ62vhqwvo9Hi1prmbWpbJWS2FjcQAsbTzPtMq2/l5y47/AOH/AOyt8RvBHwj8Y%2BAdU%2BJng/xDqnjq61LVfEV9r3w7kn0%2B71W9mYyGSxOo4ewW2ENstoZfM2Q7nuXZia4Hwh/wTCsfhr4Z0LX/AIZeL/BWifELQfiZceNrTVrP4ZCLw5Ddz6KdDe1g0aC9ja3tl08RIipd%2BYJoRK0j75EcA%2Blvhz4j1Pxh4A0XxZrMGkRXWp6XBdTpoGsnUbENIgb/AEe6MURuYecpL5ab1w21c4Hmf7B//JENc/7LN8R//U11utj4L/sr/D34Yfsv6P8AsseMLGw8ZaDZaW1pqsGu6PC9pqRkkaaUNaMGiSEyO2yH5ljQIgJ2g1zP/BOnwx4a8Ffs3X3g/wAG%2BHrHSNI0v4t/EO00zS9MtEt7a0gj8Z60scUUSALGiqAoVQAAAAKAPdKKKKACiiigAooooAKwPif8Uvh38FvAuofEz4reMbDQdB0qHzb/AFPUZxHHEvQD1ZicBVUFmJAAJIFeaftl/t9fs6fsPeCZPEfxd8XxS6xNF/xJfCOmyrJqeqSHO0Rw5yqZGDK%2BEXpncVU/n7B8Hf8Agqp/wVS%2BKdp8ZPin8L9K8CeDLGfzvB%2BlePoZG07SQc4uY9MID6jdbdpEt0ggbcwC7SoXwczzuOEqfVsLB1a7%2BzFXUfObWy8m035LU9LKZcM%2B2lUzfFOFOG9KjH2uJqvpCnT%2BGF9nWrzp0qad37RpQfVftY/8FKviN%2B0jLYeDvh9feLPh78OfEUoh0K18NWBl8d/ERSSANNteun2b4P8ApUmNwHy%2BYd8Nd1%2Bzd%2Bxx%2B3Fc%2BCx4H%2BE3hfwt%2Byn4DvCHv00jbr/jTWB/fu71/wB3G7A5DAh4ixAXAxX0p%2ByL%2BwH8H/2T5LvxtHeX3jD4ha0ufEvxH8Tv5%2BpX7EDciEk/Z4eABEh%2B6qhi5UGvdK48HkeKxFT6zmFVub6RdrLtzLVLvGHKu8pvUrPeJc64kwX9nQX1DLU044ShN%2B81tPFYhJVMTWfVtwpQu40qcIq7%2Bcfgx/wSr/Y9%2BE3iD/hYHiXwbe/EXxhIQ1z4y%2BJ2oNrV9K46PiYeUjA5IZIww9a%2Bi7a2trK3S0s7dIookCxxRIFVFHQADgCn0V9DhsHhcHDloQUV5Lf1e7fm22eBhMBgsBT5MNTjBeStfzb3b822/MKKKK6TrCiiigAooooAKKKKACiiigAooooAKKKKACiiigAooooAKKKKACiiigAooooAK8Z/Zf8A%2BS3/ALR3/ZZrH/1CvC9ezV4z%2By//AMlv/aO/7LNY/wDqFeF6APZqKKKACiiigAooooAKKKKACiiigAooooAKKKKACiiigAooooAKKKKAPMP21PhD4q%2BPn7JnxD%2BDvgV7Ua34g8KXlro8d9KUt5roxkxRSsASsTuFR2wcKzHBxg%2BReHvAP7Snj5Pjx8QLj9n2fwhrXxX8MDSvCeheM73Sb%2B2sJbLR3ghm1VLO7njdLi6upIxHCZ8wWymXyy4jH1ZRQB8n/wDBN39nP4h/BHxn4z13V/hJ4x8GeHNT8I%2BF9M0/TPiP45t/EetTalYrqC3kqXkV5eGPT/Lns1gtjMqRyLdPHbW4lbzMj9r/AOGXiRv2kNXbV/iz4h1%2Bz8S/sv8AxRhsPD%2Bq2unJaaMDceGFKWrW1pFO4feM/aJZz8g2lfmz9j14L8cdG/4SL9tXwP4f2bvt3wF%2BIlvt9d%2BpeElx%2BtZV4e0oTh3TX3pr9TvyrE/U81w%2BI/kqU5f%2BAzhL/wBtJv8AgmPrP9u/8E%2BPg7e792zwBp9vnP8AzxiEWP8AxyvdK%2BX/APgjFrP9u/8ABMn4U3u/d5emXtvn/rjqN1Fj/wAcr6grjyiftMpw8u8If%2BkxPovETDfU/EDN6H8uKxC/8r1f8wooor0T44KKKKACiiigAooooAKKKKACiiigAooooAKKKKACiiigAooooAKKKKACiiigAooooAKKKKACiiigAooooAKKKKACvGfHH/KQv4X/APZGfHn/AKdvCFezV4z44/5SF/C//sjPjz/07eEKAPZqKKKACiiigAooooAK8Z/YP/5Ihrn/AGWb4j/%2BprrdezV4z%2Bwf/wAkQ1z/ALLN8R//AFNdboA9mooooAKKK5v4vfFr4f8AwJ%2BGmtfF74p%2BIodK0DQLFrrUr6boiDgKoHLuzEKqDJZmVQCSBUznCnBzk7JatvokRUqQpU3ObskrtvRJLVti/Fv4ufDf4E/DvVPiv8W/F1pofh/RrczahqV4xCxr0CgAFndiQqooLMxCqCSBX5v/ALYX/BUL9r/43RaR8O/2SPh3rPgSx8bSeR4NlvLZT4s8WIcjz7O1ORp1ngEm8l/h%2BeNso6jL%2BP3xp%2BKX7UPjjwl8WPi/8Lp9WvPEN35n7Nn7Nlw2ftxIIXxL4gUEAW6rl1jYhSoIyIxLI/2r%2Bxb%2Bw7D%2Bz5d6l8bfjP4sPjj4x%2BLUD%2BLfG12nEKnBFjZKQPItY8BQqhd20EhVCInyFfFZhn9d4fCSdOkviktJWfnunJfDBWfK%2BebinGEvosh4fwtfKocRcR88MDO/1bDRbp1sa4uzqTmvfoYKMtHOPLVrtOnScbznT8y/4Jv/APBJjwr%2By7MPj9%2B0ZqSeO/jFqmLi917VJmvE0iRgMrbvNlnm7Nct855Vdqlt/wBn0UV9LgMBhMtwyoYeNor72%2Brb3bfVs8fE1qeIryqU6UKUXtCnCNOEV0UYx2S7tyk95TnJuTKKKK7DAKKKKACiiigAooooAKKKKACiiigAooooAKKKKACiiigAooooAKKKKACiiigAooooAKKKKACvGf2X/wDkt/7R3/ZZrH/1CvC9ezV4z%2By//wAlv/aO/wCyzWP/AKhXhegD2aiiigAooooAKKKKACiiigAooooAKKKKACiiigAooooAKKKKACiiigAoqO9vbPTrOXUNQu4oLeCJpJ55pAqRooyzMx4AABJJ6VgfC34w/CT44%2BFV8d/BT4peHPGGhtcPAus%2BFtbt9QtDKmN8Ymgd03LkZXORnmgDo68Z8cf8pC/hf/2Rnx5/6dvCFd58Nvjt8EPjLe6xpvwg%2BMnhXxXc%2BHrsWuv2/hrxDbXz6ZOS4EVwsDsYXzG42vg5RuODXB%2BOP%2BUhfwv/AOyM%2BPP/AE7eEKAPMf8Agid/oH7BOleEen/CP%2BLvEOn7P7u3VLh8f%2BRK%2BtK%2BS/8AgkF/oHwo%2BLPhLp/YH7QnizT9v93bPE%2BP/IlfWleTkX/InoLtG33OUf0P0DxW18SM1qfz1nP/AMGRpVf/AHIFFFFesfn4UUUUAFFFFABRRRQAUUUUAFFFFABRRRQAUUUUAFFFFABRRRQAUUUUAFFFFABRRRQAUUUUAFFFFABRRRQAUUUUAFeM%2BOP%2BUhfwv/7Iz48/9O3hCvZq8Z8cf8pC/hf/ANkZ8ef%2BnbwhQB7NRRRQAV5h%2B1t8ZPGXwY%2BGFhffDWz0yXxL4k8YaL4a0CTW4JJbK1uNQv4bY3U8cUkbyxwxySTeUskZlMQjDx796%2Bn1xvx4%2BCXhr9oH4dS/DvxNrGp6Xt1Kx1PS9a0SaOO90vULK6iu7S7gaWOSPfHPDG22RHjcAo6OjMpAPE7/APbH%2BM/hn9kP4ifEjXfD3h698c/DfxvN4W1u%2BsNNuk0YBb62i/tlrbzpJ0tYbK7jvp4BMzIIZoxMcCWuL0b/AIKa%2BKPEPwB%2BIX/Ct9c8D/ED4i%2BGvG914V8I634asriHw94gkTRLPWn1YQ/appFsrW1vG87bdMJZLUpFKGuYRXvnw5/ZYHwp%2BHureBvBfx68cQXWuSXl7qXiaVdJl1CbVrq6e4n1Ul7Aw%2BeS4jEXlfZUiijRIFC1zuo/8E3v2VfG3w11XwB8dfh9p/xPvtc1O91TVvF/xF0DTNS1SbUbq2htZL1CbVYLaVbe2tYUEEMaJHawqEwgoA7f4Y/HPRdQ/Ze8LftE/GPxJofhu01LwVput%2BINSvLxbPT7Fri2ilkJknfEUYaTALucDAJJ5rjP%2BCdPifw141/ZuvvGHg3xDY6vpGqfFv4h3emappl2lxbXcEnjPWmjlilQlZEZSGDKSCCCDXpXwO%2BDPgH9nf4PeGvgZ8LtGisPD/hTRoNN0u2it4ov3cSBd7LCiJvcgu5VVDOzHAzXB/sH/wDJENc/7LN8R/8A1NdboA9mooooASSSOKNpZXCqoJZmOAAO5r8sv20v2xtJ/a2%2BK9jeaV4dm8V/C/wp4oOmfDTwLZ5Zviv4wjIUOVH3tKtGcF5PuPuAyxlxH2v/AAUb/bkX446P4x%2BEXwq8YXek/CHwSfsvxf8AiDo8gE%2Bt3bHbH4Z0h%2BRJPMxCSyDKopYt8ikS%2Bqf8EzP2Dbv4WWdn%2B098efCdnY%2BOb/RUsvCfhO3Q/ZPAeiEFo9Ot1fJ%2B0MGLTzHLs7yZJZ5Xk%2BPzDFV87xawGEf7tazlutHb5pNOy2nNW1hCXN7PDWS5ZnFCefZ1HmyrDz5I07tPH4mNpKhFrVYal7s8XVXTlo025z93vP2Hf2L9a%2BCdzqv7Qn7Q/iGLxV8aPG6LJ4r8RFQYtNh4KaZYjpFbRYVflxvKAnhUVfomiivqMLhaODoKlSWi%2Bbbe7b3bb1be7%2BSSz7Psy4kzSePx0k5yskklGMIxVoU6cV7sKcIpRhCKSjFdW5SkUUUV0HjhRRRQAUUUUAFFFFABRRRQAUUUUAFFFFABRRRQAUUUUAFFFFABRRRQAUUUUAFFFFABRRRQAUUUUAFeM/sv/wDJb/2jv%2ByzWP8A6hXhevZq8Z/Zf/5Lf%2B0d/wBlmsf/AFCvC9AHs1FFFABRRRQAUUUUAFFFFABRRRQAUUUUAFFFFABRRRQAUUUUAFFFFAHkX7ffw%2B8afFb9ij4p/Dj4eaNLqes6z4G1G1stIgcK%2BploG3WaliFBnXdCNxC/vOSBk1454Gh8b/Fi4/aM8SfBzwb4x8HD4o%2BH47D4dyeIvBWp6JK%2BrWmgi2k1CSO5t43shvltLZHnEbS/2exi3oisfsCigD5O/wCCY%2Bo/G3T7C5%2BGniey8Xv4K8OfD7w1b6VL42%2BG6%2BGZ9L1pVu49Q0izhFrbfabC3jisjHNtmAMzgXVzyY%2Bqv9N%2BK9p/wU28F3njbxp4e1DQrj4PeOD4a07SvDE9nd2CDVvCXmLc3Ml7Ml2TlMFIbcLtOQ24bfoevFPHl7axf8FFvhVYSTqs03wW8fNFGerBdW8HbsfTcPzoC6R5t/wTC/4lPxJ/af8ACXTyf2jNZ1Db6faoYHz%2BO2vrSvkv9g//AIlP7dP7WvhLp5PjXQNQ2/8AX1phfP47a%2BtK8nJNMuUe0qi%2B6pUP0DxP97jGpV/5%2BUsLP/wPB4V/oFFFFesfn4UUUUAFFFFABRRRQAUUUUAFFFFABRRRQAUUUUAFFFFABRRRQAUUUUAFFFFABRRRQAUUUUAFFFFABRRRQAUUUUAFeM%2BOP%2BUhfwv/AOyM%2BPP/AE7eEK9mrxnxx/ykL%2BF//ZGfHn/p28IUAezUUUUAFFFFABRRRQAV4z%2Bwf/yRDXP%2ByzfEf/1Ndbr2avGf2D/%2BSIa5/wBlm%2BI//qa63QB7NXzF/wAFOvj3408HfDfRf2YvgVfhPiZ8ZNQbQPDciyYOl2RXN/qbkcokEBY7xypcMM7DX0tqmp6dommXGs6vex21paQPNdXEzhUijRSzOxPQAAkn2r8mvHXj/wCJP7Xnjy8%2BMnhAz23jL9orUJ/APwRtp0O/w14EtnP9q60ydY2nAk9GAaXYxGBXgcQY54bCexhfnqaab8uidvOTahH%2B9O/2WXgcmxnFeeYXh7CT9nPEt89R7UcPBOeIryfRU6SlZ/zNJa2PWv2Hf2ePAH7THxN8O6h4G0ZV/Z5/Z/uTYfDmB4QqeNfE8fF1r8wHEqpJuKNyC5yCP3iV%2BiVc18G/hN4L%2BBHwq8P/AAc%2BHemC00Tw3pcNhp8PG4oi43sR952OXZurMzE8mulrsyrL1l%2BFUXbnlZytteySS/uxVoxXZX3kz6bivO8HmmLpYXLafssBhYKjhqf8tKL%2BKVtHVqyvVqy6zny35acEFFFFemfLBRRRQAUUUUAFFFFABRRRQAUUUUAFFFFABRRRQAUUUUAFFFFABRRRQAUUUUAFFFFABRRRQAUUUUAFFFFABXjP7L//ACW/9o7/ALLNY/8AqFeF69mrxn9l/wD5Lf8AtHf9lmsf/UK8L0AezUUUUAFFFFABRRRQAUUUUAFFFFABRRRQAUUUUAFFFFABRRRQAUUUUAFFR3t7Z6dZy6hqF3FBbwRNJPPNIFSNFGWZmPAAAJJPSsD4W/GH4SfHHwqvjv4KfFLw54w0Nrh4F1nwtrdvqFoZUxvjE0Dum5cjK5yM80AdHXxD/wAFAfizN8Gf%2BCrP7GviKe68vT9btvHHhvUBnAf7edAihBPtcCFv%2BA19jeGPiJ8P/G2qa1ofgzxzo%2Br3vhvUhp3iKz0vU4riXS7zykm%2Bz3KRsTBL5UscnluA22RGxhgT8K/8FufAGr%2BMtX8OeKPCwK654E%2BEHjDxdok4XJgm0/XvBs8kn4QCf868/NZVKeXValPeK5v/AAFqTXzUWjys7nWpZTWq0viguZefI4za%2BajJfM9O/Zj/AOJL/wAFZf2n9L6f214f8F6gB6%2BVYSwE/rX1pXxT%2Bzz8SNB8V/8ABV3UfHdhMILL4o/s3aF4i0LzDgXSLcjhD0dlR8kDnAJ6CvtaufJZxlhqnK9PaVPxlzL8JJ/M/U/EOUa%2BPy/FR1jVwOBkn0aWH9ndf%2BCrfKwUUUV7B8CFFFFABRRRQAUUUUAFFFFABRRRQAUUUUAFFFFABRRRQAUUUUAFFFFABRRRQAUUUUAFFFFABRRRQAUUUUAFFFFABXjPjj/lIX8L/wDsjPjz/wBO3hCvZq8Z8cf8pC/hf/2Rnx5/6dvCFAHs1FFFABXkP7a/xI8ffDz4T6RZfDLxK2hax4s8f%2BHfDEPiJLSGd9Ji1DU7e3nuY450eJphC8gi8xHjErRl0dQUb16ud%2BLHwn8A/G/wFe/DP4m6G2oaPfvBJNDFezW0scsMyTwTwzwOksE0U0UcscsTrJHJGjoysoIAPnSw%2BMv7VE/7IfxQsPBviDUfFXjv4ffEa78M2/ii10G1l1K%2B0uK%2BtWmv47OGJLee/g065lxEkQjmubUAQgSeVXJ/D/8AaT8ZeOPgb8Wdb%2BIH7WfxN8D6N8H/AIlnSLbxvffD/SbPxJ4jtJ9E0m/toJ9NvdKKJcNc6r9nigisoZ5wlsAoeUhvpLwt%2Byj8F/BHw9uvhf4Qs/Emm6Re2k8N0LPx5rEd1K891JdT3Zuhd/aPtsk8skj3vmfaXLfNKQABzfiT/gnr%2Byr4r8D%2BH/h/q3hLxIll4Y8Uy%2BJdKvLD4j69aaidZkSSN9Qnv4L1Lq7uNkrr5s8sjAEYIwMAHR/B/wCIXxN0H9lHwn8Sv2oPDl3a%2BMY/BWnXfjrSvDehXN/NDqTW8ZuoobSyWeWQiUuPLiEmMHBYDceT/wCCdPiGw8W/s3X3inSre%2BittR%2BLfxDubeLU9LnsrlEfxnrTAS29wiTQOAeY5EV1OQyggivZPCnhnTvBnhqx8J6Rc6hNa6dapb28uratcX9y6KMAy3NzJJNO/q8js7HkkmvKf2D/APkiGuf9lm%2BI/wD6mut0Aed/8FefivrHhn9mKH4CeBtXjtPE/wAYtcg8I6ZO74W1tJzm/upORiKO2Eiu2Rt80E8CuH/4JPfCTSviR4g1j9t%2BTRZbXw9/ZMXgj4Iabdx4ew8K6efK%2B07SPlkupo2kbuCHwSsleBf8FKvib4l/aK/a28T%2BH/h5P58nheO0%2BE3w9UHKP4l14/8AE1uVxyBDYLLbSHjY7RNn1/T34Q/DHw18FfhX4c%2BEPg6Dy9L8M6JbaZYAjBMcMSxhm9WO3JPckmvkcIv7W4hqV3rTo2S82m0vx55evK%2BiPqeH5f2NwXjc6WlbMqksJSfWODwrjLEyj2WIxcoUm%2BsKEo7NnRUUUV9cfLBRRRQAUUUUAFFFFABRRRQAUUUUAFFFFABRRRQAUUUUAFFFFABRRRQAUUUUAFFFFABRRRQAUUUUAFFFFABRRRQAV4z%2By/8A8lv/AGjv%2ByzWP/qFeF69mrxn9l//AJLf%2B0d/2Wax/wDUK8L0AezUUUUAFFFFABRRRQAUUUUAFFFFABRRRQAUUUUAFFFFABRRRQAUUUUAeRft9/D7xp8Vv2KPin8OPh5o0up6zrPgbUbWy0iBwr6mWgbdZqWIUGdd0I3EL%2B85IGTXlnwY134l%2BKPGnx3%2BKPwB%2BHmr%2BGrvx7Y2cfwxh%2BIvgfV9Gs7nWbDRUhe%2BvoZbUTWluZHs7bdLGjzLYP5KyKiMfrCigD4%2B/wCCW3wW%2BP8A8CvH/wAcPCXxg%2BDmk%2BHLG68W6ReWOtaf4tvNXOv3jaDp63t6Z7jS7EXLSzq8ss6rzcy3EZQeUHfp/iJ8P/H3jP8A4KCaF4Q%2BLHi3w9qvhLxF8C/iBY6RpOleGJ7O7s7aXUvCkc6XNxJezpdllcYKQ24XByG3Db9NV4z44/5SF/C//sjPjz/07eEKUoqUWnsxSjGcXGSunofBPgafxt4J/YJ%2BGn7U2j2kl147/ZC%2BJGp%2BGfGVtbD95eaGl0be%2BtMf7NrLbsC3CKkjd6/U3wt4m0Hxr4Y07xl4W1KO90zV7CG9068hOUnglQPHIp9GVgR9a%2BPfgLo3hHwF/wAFE/2jf2P/AB9DbNoPxZ0iy8YaFpN2wVdQS5tpLXVlUH/WFpASQvO1GJ6Eje/4JU%2BKtf8Ah94a8b/sFfEbU5J/EPwQ8Rtp2mz3J/eX3h%2B53T6bc/8AfslMDhVWMd6%2BTyWTwdeNJvSd4P8A6%2BUbxXznS5X5uJ9Zw9N8SeE0KMnfE5NOVJ93halRxV%2BtqNfkflDE30R9Z0UUV9afKBRRRQAUUUUAFFFFABRRRQAUUUUAFFFFABRRRQAUUUUAFFFFABRRRQAUUUUAFFFFABRRRQAUUUUAFFFFABRRRQAV4z44/wCUhfwv/wCyM%2BPP/Tt4Qr2avGfHH/KQv4X/APZGfHn/AKdvCFAHs1FFFABRRRQAUUUUAFfPv7Lvjiw%2BGX7I/j34k6rj7L4e%2BJXxS1O53HA8uDxfrsrZ/BDX0FXwD%2B0t8RZ/hv8A8EdvjRd2Mh%2B2a18UfiDoVpEpwZWvvH2rWrqP%2B2Ush%2BgNcmPxH1TA1a/8sZP7k2vxscWZYr6ll1bEfyRk/mk7fjY8f/4I/fD2%2B%2BO/7QXhTxj4kD3sPwz8M3njHxPfyjI1Dxf4mkaVJm7MV01IB3KPHngmv1er44/4IWfCTT/h/wDsDaL4/Np5ep%2BP9UvNb1DPPlxiVrW2hUnny1t7eMqOg3tivsevJ4Xwrw2TU5S%2BKaUn80rfdFL5tn33GlKOVY/D8PUv4eWUaeEXnUpRviJ%2BbqYqpiJN9bRd2FFFFfQnxwUUUUAFFFFABRRRQAUUUUAFFFFABRRRQAUUUUAFFFFABRRRQAUUUUAFFFFABRRRQAUUUUAFFFFABRRRQAUUUUAFeM/sv/8AJb/2jv8Ass1j/wCoV4Xr2avGf2X/APkt/wC0d/2Wax/9QrwvQB7NRRRQAUUUUAFFFFABRRRQAUUUUAFFFFABRRRQAUUUUAFFFFABRRRQAUVHe3tnp1nLqGoXcUFvBE0k880gVI0UZZmY8AAAkk9K5nwD8dPgj8VvAU/xU%2BF3xj8K%2BJPC9sZhc%2BJNA8Q215YReSMy7riF2jXYOWy3yjrigDqq8Z8cf8pC/hf/ANkZ8ef%2BnbwhXffCf44fBb49aBN4r%2BBnxf8AC/jTS7e6Ntcal4T8QW2o28UwVWMTSW7uquFZTtJzhge4rgfHH/KQv4X/APZGfHn/AKdvCFAFD9uj9jlf2o/Bmm%2BJ/h74j/4Rf4oeCLs6n8OfGUAw9jeDBMEpAJe2mwEkQgjGG2tgq3zRox8dftqO37RfwNeH4Zftd/B5f7H8eeEL19tprkSHJs7mMtiWzuMFoZ8nYSF3kKkq/oZXz9%2B1p%2BwF4O/aF8T2nxx%2BGnjXUfhx8W9EgCaF8Q/DnErKOlveQ5C3duehR%2BccZ2kq3g5plcqsnWoxu3bminyt2%2BGUZfZqQ%2By9pL3ZaWFleaZ3whnqzvJbObThWpSs6dem1aUJxl7srx91qVlONk5RlGnUhr/sZftq%2BCv2tvC17Yz6NP4W8feGZjZ%2BOvh/qzbb7RrtTtb5SAZIWPKSgYI4OGBUe1V%2BX/x41nT18eaan/BRLw9q3wJ%2BM%2BkOtr4O/ab%2BHFtK%2Bha3tGIxcugGAwwHt5wMLu%2BaFG217T8Pv%2BCkHxX/AGcdMsNJ/wCCgfgyG%2B8M3exdD%2BP/AMN4TqPhvV4mOI5blYAzWcjd8AqzZ2qqjJ58Fn0IL2WMfw7zta3/AF8jvTl5605bxmk7H31DJ%2BH%2BP%2BfFcGz/AH%2B9TL6jtiaT6qjztPE0735VF%2B3jGylCtbnl9r0Vi/D/AOI3gH4r%2BFLXx18MvGema/o18m601TR71LiCUd8OhIyOhHUHg1tV9JGUZxUou6fVHw9ajWw1aVKtFxnFtNSTTTWjTTSaa6ppNdgoooqjIKKKKACiiigAooooAKKKKACiiigAooooAKKKKACiiigAooooAKKKKACiiigAooooAKKKKACiiigArxnxx/ykL%2BF//ZGfHn/p28IV7NXjPjj/AJSF/C//ALIz48/9O3hCgD2aiiigArxD9v7xJ4i0L4J6NpGieK9S0C08SfEvwr4f1/XNH1CSzurPTr7WrS2uBFcxMr2zzLJ9mEyMrx/aNyMjhWHt9ZvjHwZ4P%2BInha/8D/EDwppuu6Jqls1vqej6xYx3VreQsMNHLFICkiEdVYEGgD5T8IRftA%2BOP2Nfiv8AC/4L%2BP8AXtV1Hwv8V9S0DwlrN74qk/tXUdFtdUt2u7CPVLhzJ9rERv8ATYruWTzEkijZ5d6NJXlXwo8d/FL4qfEa1/Zi%2BIet/EnwX8Pj%2B0HrWh6cl58UruTX5LW18GWmqJpM%2Bu2V9LPIy6hNqMzCK8kZRY/ZmkZIZUP29b/s1/s52ngt/hva/AHwVF4dk0P%2BxZNAj8K2a2Tab5jSfYjAI/LNvvd38rGzc7HGSTUep/swfs0618Jbb4Bax%2Bzx4Gu/Alm6vZ%2BCrnwlZyaTAyuXUpZtEYVIdmYELwST1NAHC/sZfF74jeK/2BvAfxe8RaRrPjrXp/CEE6DTpLSO%2B8RIvyQ3atczQW/mXEQScs0kaHzCQQCBX53/APBRb4ratef8E5fCXgeTSL3w5qniX9ob4ma/caPqclu9zappviTxDO9tKbeWWFmWWaEMY5HTcvyuwwT%2Bvunadp%2BkafBpOk2MNra2sKw21tbxBI4Y1AVUVVwFUAAADgAV%2BHH7c95L8ZPifafAqykcnSvGHjm3s5Yz/qtR1j4o6nbmMf7TWtux91Jr5ri6tKlkFWMd52ivm/8AJHp8P5dSzrizKcsq/BiMXhYS6%2B4q0KlS66pUqFS/lc/Xz9iLwJ/wrL9jn4W%2BA3h8uXTPAGkxXS4x%2B/8AskZlP4yFj%2BNeo1HZ2ltYWkVjZwrHDBGscUajhVAwAPoBUlfQUKSoUIUltFJfckv0M81x9TNc1xGOqfFWqTqP1nOc3/6X%2BAUUUVqcAUUUUAFFFFABRRRQAUUUUAFFFFABRRRQAUUUUAFFFFABRRRQAUUUUAFFFFABRRRQAUUUUAFFFFABRRRQAUUUUAFeM/sv/wDJb/2jv%2ByzWP8A6hXhevZq8Z/Zf/5Lf%2B0d/wBlmsf/AFCvC9AHs1FFFABRRRQAUUUUAFFFFABRRRQAUUUUAFFFFABRRRQAUUUUAFFFFAHkX7ffw%2B8afFb9ij4p/Dj4eaNLqes6z4G1G1stIgcK%2BploG3WaliFBnXdCNxC/vOSBk15x%2Bzv410qb4pfGv44zfCHx3pvgzxfHYS6Po2qfDHVrW71V9M0eOO%2BuDYS2qzI0iNb2cSSoj3JsSsKyKqE/UlFAHzH/AME8vEeofGPxJ8Q/2ofG/gPxb4T8U%2BOJdLjufCHiX4f6tof9haVaR3CafaNJqFrAt/eYluJLmWAyRxvMkKs0cUUkurf6b8V7T/gpt4LvPG3jTw9qGhXHwe8cHw1p2leGJ7O7sEGreEvMW5uZL2ZLsnKYKQ24Xachtw2/Q9eM%2BOP%2BUhfwv/7Iz48/9O3hCgD2aiiigCj4l8MeGvGmg3Xhbxh4esdW0y%2BhMV7p2pWiTwXEZ6q8bgq49iCK%2BUPF/wDwSf0nwHfaj4l/YV%2BP3iP4P3OpF3v/AApGq6t4Xv2YYYTaZckoNw%2BXIO1VJ2p2r69orjxWAwmNt7aF2tnqpL0krNffbumcOLy7BY6UZVY%2B9H4ZJuM4/wCGcXGS%2BUvkfkn43/ZV/bl/ZO8UXfxF8E/APX/CGqGTzLvxn%2BzFqQvtJ1Ejo114XvCPMOMErE0UQOcKa6T4Of8ABfbxn8PtQ/4Q39qH4eab4pFnIIbvWfCG/StXhbIASbSNQEZkmIILeQ%2BwHIGa/UiuP%2BK/7PnwJ%2BO2n/2X8Z/g74a8UwhNqDXdFhuWjH%2Bw0ilkPupBFfPvh7G4OTnluKcP7sknF%2BqVl8%2BVPzPsqfGvFM6McPm7pZpSikl9cjL28UtEoY2g6eJVlolV%2BsxWmnQ87/Z//wCClP7E/wC0q8Wm/Dj486PDrEjbG8Oa/IdN1FZO8YguNjSMD18vePevdK%2BI/i//AMG/3/BPj4mLJL4V0DxN4JmZi6f8I14gd4Vc9/KvBOoH%2Bym32xXFeGv%2BCTv/AAUO/ZjQJ%2Bxr/wAFOdRWwgGLLw1420p5LKJR0XazXMQz3KwKfyrop47iPDaYrCqov5qUlf8A8AnZ/dI8rGY7IK3vUsLiMO/5ealiofKcfq9a3%2BKlJ%2Bu7/RGiviHTvj5/wW3%2BCPmRfFv9i7wD8V9Os4CZNT%2BH3i1dNuZsfxeXcszSN/sx2659BUN3/wAFy/hv8Mo7e1/ao/Y7%2BNPwzupTteXV/CgezU/7MzvE8g91j5rq/wBYMupr/aOal/jhKP42cf8AyY8RY/DSlyxU3/3Cq%2BvSnLpvul1Z9yUV8qeCf%2BC2X/BM3xwEjtv2lrbTZ26wa3oV/abPq7wCP8mNeteD/wBt79jXx%2BEXwb%2B1Z8O9QkfGILfxlZGX8YzJuH4iuujmmWYj%2BFXhL0lH/MypZxlNeXLTxEG%2B3PG/3Np38rX8j1Giquka5ouv2gv9C1i1vYG%2B7NaXCyIfxUkVaruTTV0egmmroKKKKYwooooAKKKKACiiigAooooAKKKKACiiigAooooAKKKKACiiigAooooAK8Z8cf8AKQv4X/8AZGfHn/p28IV7NXjPjj/lIX8L/wDsjPjz/wBO3hCgD2aiiigAooooAKKKKACvxF%2BAHhG7%2BJH/AAUn1SyvwZ4tR/bd8Qf2ajD7kXh/UtY1C5Qeql9QjYj6V%2B3Vflx%2Bwr8Nbcf8FQ7bTkMckmleLvjN49ufL5EUl/401DRVJ/2jFaRj6V87xFh3iaeHh09rD8X/AMBn2Ph/hXLiqOYvbB4fG4j0lHB1qVN/%2BDMSv%2BHP1Hooor6I%2BOCiiigAooooAKKKKACiiigAooooAKKKKACiiigAooooAKKKKACiiigAooooAKKKKACiiigAooooAKKKKACiiigAooooAK8Z/Zf/AOS3/tHf9lmsf/UK8L17NXjP7L//ACW/9o7/ALLNY/8AqFeF6APZqKKKACiiigAooooAKKKKACiiigAooooAKKKKACiiigAooooAKKKKACiiigArxnxx/wApC/hf/wBkZ8ef%2BnbwhXs1eM%2BOP%2BUhfwv/AOyM%2BPP/AE7eEKAPZqKKKACiiigAooooAKKKKACmXFvb3cD2t3AksUilZI5FDKwPUEHqKfRQNNp3R4n8Vf8Agm/%2Bwj8ajLL8Qv2VfBtxPPnzr3T9JWwuZCe5mtfLkJ9y1fOnxF/4N1/2F/E9y%2Bp%2BAdc8ZeFLkZ8mG31SG/tV9mjvIpHYD/roK%2B96K8rE5Fk2Md62Hg335Un96sz6ClxXxFTgoTxDqxWnLVUK8bduXEU66S6WXLppoflLrn/Buj8RPBupya98Jvj/AOE9cn/5d4fEugX%2Bj%2BUOy%2Bbpd2N312D6VnH/AIJ6f8FOfhFzp%2Bg%2BPdTSLq3wf/aan0pMDuserQSMw/2c5PSv1rorynwdk8XehzU/8Mn%2BT/zNP7byLEf7/kOX1u7WG%2Bry/wDA8HWwz%2BfJfqfkp/wln7b/AML/AJPGHjT9tjwvs%2B/eS%2BD9O8YWkPu8yNHke%2B3mrej/ALfvxO0e%2BXSNQ/4LT/2Xen7mk/Er9mb%2Bz3X2aWFGX6ktX6wVV1jQ9F8Q2Tabr%2Bj2t9bP9%2B3vLdZUb6qwINL/AFcxVL%2BFipfPnX/pFVfkHs/CrE/xsmxFB98NmOIS%2BUMRCsvlzfM/PjwZ%2B19%2B2h4j2J8PP%2BCl37IHiiVv9Xba9LPYTP8AWOKUOPwFen6F8Tv%2BCy97afb9N8GfsyeLYB/y38MeJtWjVvoZcgV7T4z/AGDf2J/iDvfxf%2Byb8PLyV/vXJ8I2iTH/ALaJGH/WvMdd/wCCLX/BN7V7z%2B1NM/Z/fQ70fcvfD3ijUrN0%2BipcbB/3zR/ZueUvhqt%2BlWa/9LpzX4h/q54VYj%2BFmWaYb/EsNiEv/AZUpW%2BV/Io/8NCf8FedG/5CX/BPLwNrOOv9kfFmC33fTz0OPxo/4bS/4KTaZ/yMn/BIbVFA6vpXxl0i7z7gLGD%2BFH/DozwPoXzfC39s/wDaH8Ibf9Xb6N8UJDAPZo5Yn3D2zR/wwP8AtteG/wDkmv8AwVm8fWu3/VjxR4N07Wfz83Zuo9nntPf2vynQl/6VTg/xD/UPhWt/uvFso%2BVbCVY/e406y%2B4P%2BHiX7U%2Bnf8jH/wAEpfi1Fj739mX9lefltYZo/wCHpfjHT/8AkYP%2BCYv7TUWPvf2d8PY7v8ttwM0v/Cj/APgsN4X/AOQF%2B3L8NfFO3p/wkvwz%2Bw7/AK/ZHOPwo/tX/gt74a/4/fCn7NviaJfu/wBnX2tWczj383KA/Tij2%2BaQ%2BKVZf9waUv8A0mYf8Qyx1T/dOKMFP/FKNN/dVw1P8WhP%2BHuvga2/5Dv7EP7S2l4%2B9/aHwjkXH12zNR/w%2BU/Zotv%2BQ18JPjHpuOv274YXi4/75zS/8NI/8FbfD3/IZ/4Js%2BFPEO37x8P/ABhtLTd9Bcxmj/hvj9tfRP8Akdv%2BCTPj%2BDH3/wCwvGOm6nj6eXtzR/aGLj8VeS/xYaX6XQf8Qo8QJf7vmODq/wCGvgW/u%2BtU3%2BCE/wCH1/7Clv8A8hfWvGun%2Bv234eamuP8AvmE0D/guP/wTJiONS/aCvLI%2Bl14G1kfytDS/8PT/ABFpJ2%2BMv%2BCav7TFlj78th8OUvY19yyTjj8KD/wWL/Z4sRjxh8DfjX4fH8Y1r4XXabfrsL0f2tUW%2BMpr/FRmvzaD/iEfjE/4VGNT/BGjU/8ATWOk/wAC5a/8Fsv%2BCX93zF%2B1RZj/AK6%2BGdWT/wBCtBWhbf8ABY3/AIJoXX%2Bq/ax0MZ/56afep/6FAK5if/gsz/wTDkby/GXxFvNKdjgprfw71QHPocWrCrdl/wAFPv8AgkR4lwf%2BF3eCG3f8/wD4Ynh/9G2y1Uc3lJ2WOw7%2BTX/uQyq%2BFHjdQjzTyurbv9TxDX3xlNfidTb/APBW3/gm/c/6v9rnwsP%2BujzJ/wChRirkP/BVL/gnXP8Ac/a/8FD/AH9T2/zArn7P9sT/AIJFeIcEfGH4Ltu/5/fsMX/o1RWtZ/Fb/gk34gx9j%2BIn7PN2T/CNV0Jm/LdmuiOOxk/hxOHfzf8A8sPIr8FeKmF/i4Ca9cLi1/7YzTi/4Kef8E9ZvuftieAR/veIIl/manj/AOClX/BP6X7v7ZHw6H%2B94qth/Nqis9I/4Jn69g2Gl/Au93dPJg0aTP5A1qWnwF/YE1vBsPgv8H7vPTyfDmlSZ/JDW8aubS%2BGpRf/AIH%2BkmeTWynjjD/xaMI/4qWJj%2BcUV0/4KN/sCSfd/bM%2BGf8AwLxnZj%2BclSL/AMFEf2CX6ftnfC/8fHNiP5y1qx/sa/sX36ebF%2Byn8MJlP8S%2BBtOYf%2Biaa37D/wCxY/3/ANkH4XH6%2BANO/wDjNa2z3vS%2B6r/mcTjxMnZuh91b/MoL/wAFCf2DW6ftofCv8fH2nj/2tTh/wUD/AGDz0/bR%2BFP4/EHTv/j1Wm/YV/Yjb737HPwrP1%2BHum//ABimn9g/9h1uW/Y0%2BFJ%2Bvw70z/4xR/wu/wDTr/yqL/jJf%2BnH/lYrn/goH%2BwgP%2Bb0vhT/AOHB03/49XD6D%2B0H8Bvjv/wUL%2BH3/CkvjR4V8X/2V8GfG/8Aaf8AwjPiC3vvsnm6t4T8vzPJdtm7y5NucZ2Njoa78fsHfsODkfsZ/Cj/AMN3pn/xiuF0r4E/BD4Kf8FCvh5/wpr4N%2BFPCP8AafwZ8cf2l/wjHh22sPtfl6t4S8vzfIRfM2%2BY%2B3dnG9sYya1of2t7Ve29ny9eX2l/lzafeb4b%2B3PbL6x7Lk68vteb5c2m/fofSNFFFegeoFfP3/BS46YP2a7X/hNPL/4Qr/hYXhf/AIWR9o/49/8AhHv7ZtPtv2rPH2Py/wDj53fu/s3n%2BZ%2B7319A0UAfnfqPij4cv/wTM%2BNHgj4Y%2BJ9Ph8FTeOL9/h3b6PcRtZ2PhSfW4Lc3/kJkvoEdz9vdxGBC9hFKkTCMoR4xJpPwruPh7ZeCdS%2BJfwSsvAEX7Q2uzWHjvXPBsU3wevV/4RK0ZI7XR2vkhiHnzSxxoL9kF/aahMJHkf7MP13ooA8J/Yk1D4hW/wDwTo%2BFd34S8ITXXiKD4YaPHZaV468Qz273EqWkSA3V4LSSVd4G/ebbd8wzGpyB8n/8EZR4s8f/ALb37SPj7x3ollYap4R8T6z4cuLbTdQe7toJrvxZrmoTxQzyQwtNGsnAdooywwSi5wP0mr4l/wCCMXgx9Ovf2ofiFdQ7Ztc/az8dW0bEffgtdWnVD/33JKPwrzcdTdXE4ZdFNyfyhK34s%2B04WxlPAZJnU38U8NGlH/uJiaHN98KbT8j7aooor0j4sKKKKACiiigAooooAKKKKACiiigAooooAKKKKACiiigAooooAKKKKACiiigAooooAKKKKACiiigAooooAKKKKACiiigArxn9l/8A5Lf%2B0d/2Wax/9QrwvXs1eM/sv/8AJb/2jv8Ass1j/wCoV4XoA9mooooAKKKKACiiigAooooAKKKKACiiigAooooAKKKKACiiigAooooA8e/4KDnxyP2HPiwfhv8A2n/bH/CBan9n/sTf9u2fZ3837N5fz%2Bf5XmeXs%2Bfft2/Nivmz4ReJfh5p3wx/ae8Nf8E5Nf8ADUHh3UvC0z/BWw8C3VuthdeJYvDubw6SkJ8twkr6aZTACq3LS78SmWvvSigD43/4Jln9nw/GPx7/AMMWnSP%2BFT/8K38FeZ/wjm37D/wlW/Wf7S8zZx/aP2P%2ByPte797u8nzP3m%2BvQb/Uvivd/wDBTbwXZ%2BNvBfh7T9Ct/g944HhrUdK8Tz3l3fodW8JeY1zbSWUKWhGEwEmuA245K7Ru%2Bh6%2BcP2j9X%2BNej/t4fCef4HfD/wt4i1JvhH47W7tPFfjC50WCOD%2B1PCRLpLb6fes77to2GNRgk78gKQD6Porxn/hOP8AgoX/ANGv/Bn/AMPxq3/zL0f8Jx/wUL/6Nf8Agz/4fjVv/mXoA9morxn/AITj/goX/wBGv/Bn/wAPxq3/AMy9H/Ccf8FC/wDo1/4M/wDh%2BNW/%2BZegD2aivnHSf2jv27dY%2BM%2Bv/A63/ZQ%2BEi6p4d8L6Rrt5cv8ddU8iSDUbnUreFEI8Mbi6tpc5YFQAHjwWJYL1H/Ccf8ABQv/AKNf%2BDP/AIfjVv8A5l6APZqK8Z/4Tj/goX/0a/8ABn/w/Grf/MvR/wAJx/wUL/6Nf%2BDP/h%2BNW/8AmXoA9morxn/hOP8AgoX/ANGv/Bn/AMPxq3/zL1y/gH9o79u34ieK/G/hDR/2UPhJDceA/FEWharJc/HXVAk88mlafqYeLb4YJKeTqMKksFO9HGMAMwB9HUV4z/wnH/BQv/o1/wCDP/h%2BNW/%2BZej/AITj/goX/wBGv/Bn/wAPxq3/AMy9AHs1FeM/8Jx/wUL/AOjX/gz/AOH41b/5l6P%2BE4/4KF/9Gv8AwZ/8Pxq3/wAy9AHs1FfOPwi/aO/bt%2BMvhS78X%2BHP2UPhJbW9n4o1vQpI73466ormfS9VutMncbfDDDY01pIyHOSjKSFOVHUf8Jx/wUL/AOjX/gz/AOH41b/5l6APZqK8Z/4Tj/goX/0a/wDBn/w/Grf/ADL0f8Jx/wAFC/8Ao1/4M/8Ah%2BNW/wDmXoA9morxn/hOP%2BChf/Rr/wAGf/D8at/8y9cv8Ef2jv27fjx8GPCHxx8K/sofCS10vxn4X0/XdNttQ%2BOuqLPDBd20dxGkgTwwyhwsgDBWYZBwSOaAPo6ivGf%2BE4/4KF/9Gv8AwZ/8Pxq3/wAy9H/Ccf8ABQv/AKNf%2BDP/AIfjVv8A5l6APZqK8Z/4Tj/goX/0a/8ABn/w/Grf/MvXL/G79o79u34D/Bjxf8cfFX7KHwkutL8GeF9Q13UrbT/jrqjTzQWltJcSJGH8MKpcrGQoZlGSMkDmgD6Oorxn/hOP%2BChf/Rr/AMGf/D8at/8AMvR/wnH/AAUL/wCjX/gz/wCH41b/AOZegD2V0SRSjqGBGCCMg1i6r8NPhxr2f7c%2BH%2BiXu7r9r0qGTP8A30przT/hOP8AgoX/ANGv/Bn/AMPxq3/zL0f8Jx/wUL/6Nf8Agz/4fjVv/mXqZRjJWkrmtKvXoS5qU3F%2BTa/Jo6fVP2Uf2W9bz/bX7NngC8z1%2B1eDrGTP/fURrntS/wCCfP7COrZN7%2Bxp8L8nq0XgSwjY/ikQNcj8Xf2jv27fg14UtPF/iP8AZQ%2BElzb3nijRNCjjsvjrqjOJ9U1W10yBzu8MKNizXcbOc5CKxAY4U9R/wnH/AAUL/wCjX/gz/wCH41b/AOZeueWCwU/ipRfrGP8A8ievQ4n4nw38HH14%2BlesvyrIx9Q/4JZf8E7tTz9p/ZA8FLn/AJ99L8n/ANFkVh6h/wAEcP8AgmhqWTcfsoaMuf8An31O%2Bi/9AnFdp/wnH/BQv/o1/wCDP/h%2BNW/%2BZej/AITj/goX/wBGv/Bn/wAPxq3/AMy9YSyjKZ/Fh4f%2BAR/%2BRPWo%2BIviDh/4ecYpemIrf/LWeaz/APBD7/gmFJJ59t%2BzY9rJ/wA9LXxnrKEfgLzH6Uz/AIcn/sFW/wDyB/Cvi/TvT7F8QdUXH/fU5r03/hOP%2BChf/Rr/AMGf/D8at/8AMvXL%2BPv2jv27fh34r8EeENY/ZQ%2BEk1x488US6FpUlt8ddUKQTx6VqGpl5d3hgEJ5OnTKCoY73QYwSy5/2Fkv/QND/wABS/Kx2rxW8TrWedYp%2Btecv/SnI5r/AIc0/stwf8gn4jfFqw9PsfxNvVx/30TSf8OgPhHB/wAgv9qr9oGx9PsnxWnGPzjNenf8Jx/wUL/6Nf8Agz/4fjVv/mXo/wCE4/4KF/8ARr/wZ/8AD8at/wDMvS/sLJ%2BlCPyuvykh/wDEVfEZ/FmdV%2Bvs5f8ApVCR5l/w6X0aH/kG/wDBQf8Aals/QW3xgYY/O3NUvgr%2Bypdfsx/8FC/Ba3H7THxU%2BIq618GfGWwfE3xWNUOn%2BTq3hXP2c%2BWnl%2BZ5o39d3lR9Mc%2Btf8Jx/wAFC/8Ao1/4M/8Ah%2BNW/wDmXqh4H8D/ALVnjH9qzw58bvjd8OPh74Z0bwz8PfEOhww%2BFfiHfa1dXd1qV9olwjMlxpFikUaJpcoLB3YtKgC4yRtQyrL8NVVSlC0l5y/Jza/A8/NOPuL87wM8HjsV7SnO106dBXs0170MNCa1S2muzurp%2B60UUV6B8eFFFFABRRRQAV4N/wAE7PCml%2BGPgr4un00Nv1X48/Eq%2Bu2bHzSt4z1hO3YKij8K95r5K/ZK8Wftnaf8PfFFn8MfgH8MNX0JPjT8Rf7P1HXvi7qOm3cy/wDCZ6yWMltFoFykRDbgAJnyADkE7QnFNpvoXGpUhCUE9JWuu9ndfc9T61orxn/hOP8AgoX/ANGv/Bn/AMPxq3/zL0f8Jx/wUL/6Nf8Agz/4fjVv/mXpkHs1FeM/8Jx/wUL/AOjX/gz/AOH41b/5l6P%2BE4/4KF/9Gv8AwZ/8Pxq3/wAy9AHs1FfOPwR/aO/bt%2BPHwY8IfHHwr%2Byh8JLXS/GfhfT9d0221D466os8MF3bR3EaSBPDDKHCyAMFZhkHBI5rqP8AhOP%2BChf/AEa/8Gf/AA/Grf8AzL0AezUV4z/wnH/BQv8A6Nf%2BDP8A4fjVv/mXo/4Tj/goX/0a/wDBn/w/Grf/ADL0AezUV84/G79o79u34D/Bjxf8cfFX7KHwkutL8GeF9Q13UrbT/jrqjTzQWltJcSJGH8MKpcrGQoZlGSMkDmuo/wCE4/4KF/8ARr/wZ/8AD8at/wDMvQB7NRXjP/Ccf8FC/wDo1/4M/wDh%2BNW/%2BZej/hOP%2BChf/Rr/AMGf/D8at/8AMvQB7NRXjP8AwnH/AAUL/wCjX/gz/wCH41b/AOZeuX%2BLv7R37dvwa8KWni/xH%2Byh8JLm3vPFGiaFHHZfHXVGcT6pqtrpkDnd4YUbFmu42c5yEViAxwpAPo6ivGf%2BE4/4KF/9Gv8AwZ/8Pxq3/wAy9H/Ccf8ABQv/AKNf%2BDP/AIfjVv8A5l6APZqK8Z/4Tj/goX/0a/8ABn/w/Grf/MvR/wAJx/wUL/6Nf%2BDP/h%2BNW/8AmXoA9mor5x8fftHft2/DvxX4I8Iax%2Byh8JJrjx54ol0LSpLb466oUgnj0rUNTLy7vDAITydOmUFQx3ugxgll6j/hOP8AgoX/ANGv/Bn/AMPxq3/zL0AezUV4z/wnH/BQv/o1/wCDP/h%2BNW/%2BZej/AITj/goX/wBGv/Bn/wAPxq3/AMy9AHs1FeM/8Jx/wUL/AOjX/gz/AOH41b/5l65fVv2jv27dH%2BM%2BgfA64/ZQ%2BEjap4i8L6vrtncp8ddU8iODTrnTbeZHJ8Mbg7NqkBUBSCEkyVIUMAfR1FeM/wDCcf8ABQv/AKNf%2BDP/AIfjVv8A5l6P%2BE4/4KF/9Gv/AAZ/8Pxq3/zL0AezUV4z/wAJx/wUL/6Nf%2BDP/h%2BNW/8AmXo/4Tj/AIKF/wDRr/wZ/wDD8at/8y9AHs1FfOOk/tHft26x8Z9f%2BB1v%2Byh8JF1Tw74X0jXby5f466p5EkGo3OpW8KIR4Y3F1bS5ywKgAPHgsSwXqP8AhOP%2BChf/AEa/8Gf/AA/Grf8AzL0AezUV4z/wnH/BQv8A6Nf%2BDP8A4fjVv/mXo/4Tj/goX/0a/wDBn/w/Grf/ADL0AezUV4z/AMJx/wAFC/8Ao1/4M/8Ah%2BNW/wDmXrl/AP7R37dvxE8V%2BN/CGj/sofCSG48B%2BKItC1WS5%2BOuqBJ55NK0/Uw8W3wwSU8nUYVJYKd6OMYAZgD6Oorxn/hOP%2BChf/Rr/wAGf/D8at/8y9H/AAnH/BQv/o1/4M/%2BH41b/wCZegD2avGf2X/%2BS3/tHf8AZZrH/wBQrwvR/wAJx/wUL/6Nf%2BDP/h%2BNW/8AmXq3%2Byt8OfjT4P1j4oeO/jpoHhfSdU8ffEKLXLPSvCfiW51a3tbWLQdH0xVe4uLKzZpGk06Vyoi2hZEG5jnAB63RRRQAUUUUAFFFFABRRRQAUUUUAFFFFABRRRQAUUUUAFFFFABRRRQAUUUUAFfK/wC09%2B1p8XPhh8Y/FmteAfDvg%2BTwx8H/AA/4fvfGp1rSLibVdUt9Xv5UuYLC4juI0svItrOO4zJFOLmQpGRD5fmn6orxn4z/ALEPw4%2BN3xSPxM1zxz4q0uLUbXSLXxf4a0a6tU07xTBpd7Je2MV8stvJMFjmmlz9nlgMschimMsYVAAezUUUUAFFFFAHzH4c/aV%2BJkP7f/ij4P8AxG1jw94T8Nr4gtNE8GRaj8ItZS68YwDQINRxB4ja7XTmlju7nUALQQvJ5dpMAoLNIv05Xlfiz9lqDx/8ZNI%2BKfj343%2BNdX0rw9rsetaB4AuDpkWjWOoR27wRzhobJL2XZ5kkipNdSRiR92z5EC%2BqUAFFFFAHi/8AwUF%2BLvxw/Z%2B/ZH8afHr4BXvhSPWPBOhXeuXUHjDRbm%2Btru0tbaWZ7dEtrq2ZJXZEUSFyqAsSj8CvP/Hn7Wnxc8F/HjxbqfhTw74Qi%2BHnhD4x%2BEfh94ys5tIuDreq6rrsGipHqEN2lwsMccH9uaTGYpLeV5EhnxLHtQV7D%2B1j%2BzjZftafAjXv2fda%2BKvinwjpPieylsdcv/CC6d9rubKWJ4prbdf2l1GiOr8siLICo2uvOeLg/YB8HT/EWz%2BIvir44%2BPtdY6zpOueJtG1CXSorHxPrmmJGljq17HbWETLcRCC0wts0EDGxti8TGPJAPe6KKKACvF/2yfi78cPgla%2BAfGPwsvfCn9jah8TPDnh7xfY%2BINFubm6ubXVdZsdNBs5YbqFLaSNbmWTfIk6koi7OSa9oryr9q79lt/2qvDeheF5/j7438DW%2BheJLDXUbwXDo7Pd3tjeQXlm0p1LT7wbYri3jcLGEDcrJvU7QAecfs8/tK/EzW/2qvFvwR%2BKGr%2BHvCenQ%2BKdbt/BPhKT4Razplzr1tC6Sm/t9auLv7BqDsZJpZYraAvyXYrhifpyvJdJ/ZRD/GTRfjL8R/2gPHfjWbwvd3l34T0LxCNJhsNHurm3ktZLiJbDT7aWV/s808K%2BfJKqLO%2B0AkEetUAFFFFAHh/7d3xc%2BPH7P3wa1f46/Cjxj4FsdP8AC2i3N5e6L4s8M3t/c%2BIb3KLZ6ZZyW17B9nmuJSLdG8q6ZpZ4gsLH5W8/%2BCP7X3xn1z4l%2BCv7W8GeEtI%2BGnjf4n%2BKPht4V8Nadpc0er6Jf6BDq2%2Bee5Fw1vNBI3h/U0WGO3iMatbHzJMsB6f%2B0r%2ByDB%2B0l488EfECb9oHx34QufAN3c3ui2PhiLRp7OS9lQRreTQanp14jzwx%2BYsMgCmMTykfM2RV8B/sNfD3wH8Zbf4uw/EXxdqUGna7qevaJ4Q1K5sv7J0rW9RjePUNUgSK1Sfz5xPdlleZ4Ua%2BuTHFH5nAB7XRRRQAV8v/ALXPx4/aX%2BC3xE0/wppUPgDxro/jmHWrbRfhzF4PvpNYS1tNDuruS/uJxevFdWwuore2khFrED9vhQTGRkST6grw6b9ia4j/AGj/ABX%2B01on7VfxL07V/Fumw6dc6XDB4fntNPs4YGjhtrNrnSZbm3iWV3utizbXncu4cHbQAz9hD9oPxv8AHv4e3l18V/H2jX3i7ThZtr/huy%2BF2r%2BEbzQHntllEFzZavdT3Dgtv8u4ASORUO0NtJr3SvN/gd%2Bzdp3wZ8T%2BJPiHrHxS8U%2BOPFXiuKxt9Y8T%2BLmsFuXtLMTfZbVItPtbW2jija5uXG2EMzXEhZmyMekUAFFFFAHxz/wUE/bj%2BKn7GHjn%2B09c0XQPGPhF9G1HW7fwrL8OdTspbdNN0a%2B1JJP%2BEimun0ye7%2B16aNlisCXQjmWUDbC0jevfs0fF3456t8VPG/7PX7R1z4U1DxP4R0nQ9aj1rwVpFzYWNzY6oLyNIjBc3Ny6yxXGnXal/NxIhibZGSVFb46/sJeCP2nNaurX4/8Axb8a%2BKPBdzJcSL8MryTTYdFikmsZrJm329lHfSAR3EzBJbp0Dvu2/IgXp/2fP2ZtI%2BAd5r3iK7%2BKHizxx4j8SGzj1bxV41uLN76W2tIjFa2o%2Bx21vCsUQeVhiPezzyu7Ozk0AelUUUUAFfEf7U/7ZX7Wfwb%2BNXiD4UeDvDfhzxrqdhotxrvhgJ8D/EEcmigajplqhhb7c48TSCx1S487%2By/KeFoSsojEwjr7crw/Xv2LdT8S%2BPT8Tta/a5%2BKM2t6fBeReDbwpoAHhVbqaGSf7JGNJ2Ts0cC2%2B69W6ZYmcKVd2cgHVfssfFh/jJ8I4PFl78TNG8VX8Oo3Vlql9o3gy%2B8Oi2uIpWVrWbTdQuJ7qznjGFeOZw%2Bfm2qGAr0auG%2BAfwF8PfADwzqejaV4p1vxBqOv69ca34k8SeI5oGvdVv5giNPKLeKGBMRxQxKkMUcapEgCjBJ7mgAooooAKKKKACiiigAooooAo%2BKPENh4S8Naj4r1UObXTLGa7uREuW8uNC7YHc4U185/sTftJ/Gvx/4p0fwZ8bPD3gyzHjr4W2XxG8Mw%2BDNKuLQaZHeXBN3p92ZriUXc0b3Ns/2xBAJ2lmJgj2gv9LXdpa39rLY3tuk0M0bRzRSqGV1IwVIPBBHGK8h/Zm/Yr8Bfswaq%2Br6B8QfFviWW28MWPhnw6PFl7azDQNCs3ke3021Nvbwlo1MnzSzma4kEcXmTP5a4APYqKKKACuF/ag8efEX4Wfs0fET4nfB/wouveLfDngXV9U8LaG1jNdDUdRt7OWW2tjDAyyzCSVETy42DtuwpBINd1Wd4t0S/8S%2BGNQ8P6X4r1HQrm9tJIbfWtIWBrqxdlIE0QuIpYi6nkCSN0yPmVhkEA8u/Yp%2BLU/xQ%2BGd9Zat8QvD%2Bs6n4d1VdOvNM0T4Yan4OfQ0FtBJFZ3Glapcz3MLhHEiu3lo8UsWxMDe/sVeefAf9nbSfgdeeJfEdz8RPEnjHxJ4v1GG88ReKfFb2Yu7ow26W8EQjsba2tooo40AVY4UyWdmLMzMfQ6ACiiigD5c/ao/ax%2BKH7OHxe8cWXxK0bwl4i%2BF9h%2Bzv4v8AHttoVvolwmqu2iDS1ntri5kuXt5op1vpwEFshUImXfLCu3/Zn%2BL/AMfNU%2BLnjL9nX9pZ/CV54o8MeGPD3iWPVfBWk3NjZSWWrPqVutsYbm5uXMsNxpF2DKJAsiPE3lxnctQfGP8AYV8O/HT46t8ZfHnx28cy6bN4K1PwjffD2GDRf7Eu9G1Jbb7faSF9Na9Ina0gdnF0HUoQjIjMh6T9nf8AZd0P9n2%2B1rxHP8UPFvjfxDr9rYWV/wCJ/G1zaSXpsLFJFs7MfZLa3j8qIz3DglDI73Mru7s2aAPT6KKKACvkT41/tL/tbeDNd/aA8CW/hXwZ4svfAXh/wp4k%2BG1jpPw/1O/nWPUdV1KEJeWsV48uozwLpsc6m2FuS5IVflVq%2Bu68Ll/Yo8QxfHTxt8f9C/bQ%2BK2lat430ix0y5sbKz8MNaabbWVxcz2aWwl0V5P3RvLpQZnlLrORJ5hVCoB1f7Knxbm%2BMvwpHibUfido3inUbXVbmx1a60fwRf8Ahs2dxE3zWs%2BmajcT3VpOildyTMGIZW2qrCvSa4T4B/APQPgDoWs2On%2BLdc8R6r4m8QS654n8TeJJbdr3Vb%2BSGGDzZBbQwwRhYLe3hVIoo0VIUAXOSe7oAKKKKAPjb9pb9rv9pb9nj4zQfDbWU%2BGfjW%2B1uCCbwjDp3ha9tJfBd5qXiHTPD2kTanK99MLqKdtXnBaJbORxY3Sxhl8wxe4/sq/F/wCJHxGHj/4ffGI6JP4q%2BGnjxvDWs6r4a06azsNT8zS9O1a3uIbeaeeS3za6pbo8bTS4kjkwxBGOFtv%2BCavhJrr4hv4h/aX%2BJ2s2/wASdeOuaxb6kdC8yz1KK4hn0%2B5trqLS0ulNg9vbi0jeaSKJYUDI/OfWPgH8BdD%2BAfh7VtNsvF%2BueJNW8Ra9NrXifxR4le2N/q99JHFD50wtYIIF2QQW8CJFFGixwRqF4JIB3VFFFADLn7T9mk%2Bx7PO2HyvNzt3Y4zjnGa%2BIPit%2B1z%2B2n8NPiJrnw2t7bwH4z17wxe%2BGrfVvHXgj4K6/q0fhy31Zrx72wl0qz1Ke7uZo4bKxuiYp0/d3ULSwIDE0n29dwyXFrLbw3UkDyRsqzxBS8ZIwGXcCuR1GQR6g189/Bj9gLxB8BPhtcfDT4d/t1fGKKO61Z9Tm1m8svCc%2BoS3cryyXM80z6EftMk7y7pJJxI%2BY02FAMEA9Z%2BAnxDsvit8HfD/xCsPiBo3ipNT08SPr/h/SZrC0u5ASshS1nmmltirqyNDJI7xsrKx3KQOvrkvgX8F/CX7Pvwv074U%2BCrm/uLKwluria%2B1W5E11fXd1cy3V1dTOFUNLNcTzSvtVV3SHaqrhR1tABVHxPD4kufDeoW/g3U7Gy1eSylXS7zU7B7q2guChEcksMcsTTRq2CyLJGWAIDqTuF6s3xjoN/wCKPC1/4d0vxbqWg3N5avFBrWjiA3Vi5HE0QuIpYi6nkCSN0OPmVhkUAfD3w3/bs/a1%2BMHxT1v4JfCzTfh8njPTbXXb6Txn4r%2BF2taGuqaZpFrosqWMuiXl8moafK934h2JNPM8flQyXCQus6A/Y3wC%2BLWm/Hz4E%2BCvjro2my2dn418Jabr1pZzPueCK8tY7hY2IAyVEgBPqK8W1f8A4JkeB9a1y%2B%2BIt3%2B0p8U0%2BIGrJeWutfEm2vdIh1a/0y6trW2m0wommizhtillaMPItopVkgWVZQ5Zj9B%2BC/B/hr4eeDtJ8AeDNJi0/R9D0yDT9JsIc7La2hjWOKNc84VFVR9KANOiiigDl/jTqPjjRvhbrWt/DnxDY6Xq1hZm6hvtQ8H3viBEjjIeUDTrGeC5vJGiV1SKGQOXZcK5%2BRvi34S/8FEfj94k8aaHqfje48I%2BBPBmpTzr4g8cXnwM8RTW2sX8Ov3WkIlzKt9GnhmeS1tLX9xqjSSwPKsb52BK%2B2/iZ4M13x74Sm8OeG/ilr/g28kljeLX/DMVi93BtYEqq39tcwMGAKkPE3BOMHBHit1/wTm8Kah4PuPhtq37SHxNu/DGuahNf%2BPNAmuNHEXjC7nvGuria%2BlXTRcReaWWFo7OW1iEMSRqijduAPomiiigAooooAKKKKACiiigAooooAKKKKACiiigAooooAKKKKACiiigAooooAKKKKACiiigAooooAKKKKACiiigAooooAKKKKACiiigAooooAKKKKACiiigAooooAKKKKACiiigAooooAKKKKACiiigAooooAKKKKACiiigAooooAKKKKACiiigAooooAKKKKACiiigAooooAKKKKACiiigAooooAKKKKACiiigAooooAKKKKACiiigAooooAKKKKACiiigAooooAKKKKACiiigAooooAKKKKACiiigAooooAKKKKACiiigAooooAKKKKACiiigD//Z\">"
      ]
     },
     "metadata": {},
     "output_type": "display_data"
    }
   ],
   "source": [
    "s.run(tf.global_variables_initializer())\n",
    "\n",
    "BATCH_SIZE = 512\n",
    "EPOCHS = 40\n",
    "\n",
    "# for logging the progress right here in Jupyter (for those who don't have TensorBoard)\n",
    "simpleTrainingCurves = matplotlib_utils.SimpleTrainingCurves(\"cross-entropy\", \"accuracy\")\n",
    "\n",
    "for epoch in range(EPOCHS):  # we finish an epoch when we've looked at all training samples\n",
    "    \n",
    "    batch_losses = []\n",
    "    for batch_start in range(0, X_train_flat.shape[0], BATCH_SIZE):  # data is already shuffled\n",
    "        _, batch_loss = s.run([step, loss], {input_X: X_train_flat[batch_start:batch_start+BATCH_SIZE], \n",
    "                                             input_y: y_train_oh[batch_start:batch_start+BATCH_SIZE]})\n",
    "        # collect batch losses, this is almost free as we need a forward pass for backprop anyway\n",
    "        batch_losses.append(batch_loss)\n",
    "\n",
    "    train_loss = np.mean(batch_losses)\n",
    "    val_loss = s.run(loss, {input_X: X_val_flat, input_y: y_val_oh})  # this part is usually small\n",
    "    train_accuracy = accuracy_score(y_train, s.run(classes, {input_X: X_train_flat}))  # this is slow and usually skipped\n",
    "    valid_accuracy = accuracy_score(y_val, s.run(classes, {input_X: X_val_flat}))  \n",
    "    simpleTrainingCurves.add(train_loss, val_loss, train_accuracy, valid_accuracy)"
   ]
  },
  {
   "cell_type": "markdown",
   "metadata": {},
   "source": [
    "# Submit a linear model"
   ]
  },
  {
   "cell_type": "code",
   "execution_count": 16,
   "metadata": {
    "collapsed": true
   },
   "outputs": [],
   "source": [
    "## GRADED PART, DO NOT CHANGE!\n",
    "# Testing shapes \n",
    "grader.set_answer(\"9XaAS\", grading_utils.get_tensors_shapes_string([W, b, input_X, input_y, logits, probas, classes]))\n",
    "# Validation loss\n",
    "grader.set_answer(\"vmogZ\", s.run(loss, {input_X: X_val_flat, input_y: y_val_oh}))\n",
    "# Validation accuracy\n",
    "grader.set_answer(\"RMv95\", accuracy_score(y_val, s.run(classes, {input_X: X_val_flat})))"
   ]
  },
  {
   "cell_type": "code",
   "execution_count": 18,
   "metadata": {},
   "outputs": [
    {
     "name": "stdout",
     "output_type": "stream",
     "text": [
      "Submitted to Coursera platform. See results on assignment page!\n"
     ]
    }
   ],
   "source": [
    "# you can make submission with answers so far to check yourself at this stage\n",
    "grader.submit(COURSERA_EMAIL, COURSERA_TOKEN)"
   ]
  },
  {
   "cell_type": "markdown",
   "metadata": {},
   "source": [
    "# MLP with hidden layers"
   ]
  },
  {
   "cell_type": "markdown",
   "metadata": {},
   "source": [
    "Previously we've coded a dense layer with matrix multiplication by hand. \n",
    "But this is not convenient, you have to create a lot of variables and your code becomes a mess. \n",
    "In TensorFlow there's an easier way to make a dense layer:\n",
    "```python\n",
    "hidden1 = tf.layers.dense(inputs, 256, activation=tf.nn.sigmoid)\n",
    "```\n",
    "\n",
    "That will create all the necessary variables automatically.\n",
    "Here you can also choose an activation function (remember that we need it for a hidden layer!).\n",
    "\n",
    "Now define the MLP with 2 hidden layers and restart training with the cell above.\n",
    "\n",
    "You're aiming for ~0.97 validation accuracy here."
   ]
  },
  {
   "cell_type": "code",
   "execution_count": 26,
   "metadata": {},
   "outputs": [],
   "source": [
    "# write the code here to get a new `step` operation and then run the cell with training loop above.\n",
    "# name your variables in the same way (e.g. logits, probas, classes, etc) for safety.\n",
    "\n",
    "# Compute predictions\n",
    "\n",
    "hidden1 = tf.layers.dense(input_X, 256, activation=tf.nn.sigmoid)\n",
    "hidden2 = tf.layers.dense(hidden1,128, activation=tf.nn.sigmoid)\n",
    "logits = tf.layers.dense(hidden2 , 10)\n",
    "\n",
    "probas = tf.nn.softmax(logits)# apply tf.nn.softmax to logits\n",
    "classes = tf.argmax(probas,1)# apply tf.argmax to find a class index with highest probability\n",
    "\n",
    "# Loss should be a scalar number: average loss over all the objects with tf.reduce_mean().\n",
    "# Use tf.nn.softmax_cross_entropy_with_logits on top of one-hot encoded input_y and logits.\n",
    "# It is identical to calculating cross-entropy on top of probas, but is more numerically friendly (read the docs).\n",
    "loss =  tf.reduce_mean(tf.nn.softmax_cross_entropy_with_logits(labels=input_y,logits=logits))# cross-entropy loss\n",
    "\n",
    "# Use a default tf.train.AdamOptimizer to get an SGD step\n",
    "step = tf.train.AdamOptimizer().minimize(loss)# optimizer step that minimizes the loss\n",
    "#step = tf.train.GradientDescentOptimizer(0.01).minimize(loss)"
   ]
  },
  {
   "cell_type": "markdown",
   "metadata": {},
   "source": [
    "# Submit the MLP with 2 hidden layers\n",
    "Run these cells after training the MLP with 2 hidden layers"
   ]
  },
  {
   "cell_type": "code",
   "execution_count": 28,
   "metadata": {
    "collapsed": true
   },
   "outputs": [],
   "source": [
    "## GRADED PART, DO NOT CHANGE!\n",
    "# Validation loss for MLP\n",
    "grader.set_answer(\"i8bgs\", s.run(loss, {input_X: X_val_flat, input_y: y_val_oh}))\n",
    "# Validation accuracy for MLP\n",
    "grader.set_answer(\"rE763\", accuracy_score(y_val, s.run(classes, {input_X: X_val_flat})))"
   ]
  },
  {
   "cell_type": "code",
   "execution_count": 29,
   "metadata": {},
   "outputs": [
    {
     "name": "stdout",
     "output_type": "stream",
     "text": [
      "Submitted to Coursera platform. See results on assignment page!\n"
     ]
    }
   ],
   "source": [
    "# you can make submission with answers so far to check yourself at this stage\n",
    "grader.submit(COURSERA_EMAIL, COURSERA_TOKEN)"
   ]
  },
  {
   "cell_type": "code",
   "execution_count": null,
   "metadata": {
    "collapsed": true
   },
   "outputs": [],
   "source": []
  }
 ],
 "metadata": {
  "kernelspec": {
   "display_name": "Python 3",
   "language": "python",
   "name": "python3"
  },
  "language_info": {
   "codemirror_mode": {
    "name": "ipython",
    "version": 3
   },
   "file_extension": ".py",
   "mimetype": "text/x-python",
   "name": "python",
   "nbconvert_exporter": "python",
   "pygments_lexer": "ipython3",
   "version": "3.6.2"
  }
 },
 "nbformat": 4,
 "nbformat_minor": 1
}
